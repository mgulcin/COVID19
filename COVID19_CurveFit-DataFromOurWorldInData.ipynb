{
 "cells": [
  {
   "cell_type": "code",
   "execution_count": 1,
   "metadata": {},
   "outputs": [],
   "source": [
    "# Copied from https://towardsdatascience.com/covid-19-infection-in-italy-mathematical-models-and-predictions\n",
    "# Modified the code to make it more generic \n",
    "# Included \"hard coded data\" for Turkey and Republic of Ireland (ROI)"
   ]
  },
  {
   "cell_type": "code",
   "execution_count": 2,
   "metadata": {},
   "outputs": [],
   "source": [
    "import pandas as pd\n",
    "import numpy as np\n",
    "from datetime import datetime,timedelta\n",
    "from sklearn.metrics import mean_squared_error\n",
    "from scipy.optimize import curve_fit\n",
    "from scipy.optimize import fsolve\n",
    "import matplotlib.pyplot as plt\n",
    "%matplotlib inline"
   ]
  },
  {
   "cell_type": "markdown",
   "metadata": {},
   "source": [
    "# Curve Fitting functions"
   ]
  },
  {
   "cell_type": "markdown",
   "metadata": {},
   "source": [
    "## 1 - Logistic regression"
   ]
  },
  {
   "cell_type": "code",
   "execution_count": 3,
   "metadata": {},
   "outputs": [],
   "source": [
    "# The logistic model describes an infection growth that is going to stop in the future, "
   ]
  },
  {
   "cell_type": "code",
   "execution_count": 4,
   "metadata": {},
   "outputs": [],
   "source": [
    "# a refers to the infection speed\n",
    "# b is the day with the maximum infections occurred\n",
    "# c is the total number of recorded infected people at the infection’s end\n",
    "def logistic_model(x,a,b,c):\n",
    "    return c/(1+np.exp(-(x-b)/a))\n",
    "\n"
   ]
  },
  {
   "cell_type": "code",
   "execution_count": 5,
   "metadata": {},
   "outputs": [],
   "source": [
    "def calculate_sol_days(x, logistic_model_func, a_lr, b_lr, c_lr):\n",
    "    # The expected infection end can be calculated as that particular day at which the cumulative \n",
    "    # infected people count is equal to the c parameter rounded to the nearest integer.\n",
    "    sol_date = int(fsolve(lambda x : logistic_model_func(x, a_lr, b_lr, c_lr) - int(c_lr), b_lr))\n",
    "    return sol_date"
   ]
  },
  {
   "cell_type": "code",
   "execution_count": 6,
   "metadata": {},
   "outputs": [],
   "source": [
    "def print_sol_date(x, logistic_model_func, a_lr, b_lr, c_lr):\n",
    "    # The expected infection end can be calculated as that particular day at which the cumulative \n",
    "    # infected people count is equal to the c parameter rounded to the nearest integer.\n",
    "    sol_days = calculate_sol_days(x, logistic_model, a_lr,b_lr,c_lr)\n",
    "    print(\"Days since new year: {}\".format(sol_days)) \n",
    "    # check from https://asd.gsfc.nasa.gov/Craig.Markwardt/doy2020.html\n",
    "    sol_date = datetime(2020,1,1) + timedelta(days=sol_days-1)\n",
    "    print(sol_date.strftime(\"%d %B %Y\"))"
   ]
  },
  {
   "cell_type": "markdown",
   "metadata": {},
   "source": [
    "## 2 - Exponential growth"
   ]
  },
  {
   "cell_type": "code",
   "execution_count": 7,
   "metadata": {},
   "outputs": [],
   "source": [
    "# The exponential model describes an unstoppable infection"
   ]
  },
  {
   "cell_type": "code",
   "execution_count": 8,
   "metadata": {},
   "outputs": [],
   "source": [
    "def exponential_model(x,a,b,c):\n",
    "    return a*np.exp(b*(x-c))"
   ]
  },
  {
   "cell_type": "markdown",
   "metadata": {},
   "source": [
    "## 3 - Generic code for curve fitting"
   ]
  },
  {
   "cell_type": "code",
   "execution_count": 9,
   "metadata": {},
   "outputs": [],
   "source": [
    "def fit_curve(model_function, x, y, p0, population):\n",
    "    # methods: [lm, trf, dogbox]\n",
    "    # Method 'lm' only works for unconstrained problems. Use 'trf' or 'dogbox' instead.\n",
    "    fit = curve_fit(model_function, x, y, p0=p0, maxfev=5000, method=\"trf\", \n",
    "                    bounds=(0, [np.inf, np.inf, population * 0.50]))\n",
    "    #fit = curve_fit(model_function, x, y, p0=p0, maxfev=5000, method=\"lm\")\n",
    "    # print(\"fit_result: {}\".format(fit))\n",
    "    a , b, c = fit[0]\n",
    "    # standard error \n",
    "    errors = [np.sqrt(fit[1][i][i]) for i in [0,1,2]]\n",
    "    return a , b, c, errors"
   ]
  },
  {
   "cell_type": "markdown",
   "metadata": {},
   "source": [
    "##  4 - Plot & evaluate"
   ]
  },
  {
   "cell_type": "code",
   "execution_count": 10,
   "metadata": {},
   "outputs": [],
   "source": [
    "# TODO convert func, abc_tuple into struct and pass array of that struct\n",
    "def plot_curves(x, y, logistic_model_func, abc_tuple_lr, exponential_model_func, abc_tuple_exp):\n",
    "    sol = calculate_sol_days(x, logistic_model_func, abc_tuple_lr[0] , abc_tuple_lr[1], abc_tuple_lr[2])\n",
    "    pred_x = list(range(max(x),sol))\n",
    "    plt.rcParams['figure.figsize'] = [7, 7]\n",
    "    plt.rc('font', size=14)\n",
    "    # Real data\n",
    "    plt.scatter(x,y,label=\"Real data\",color=\"red\")\n",
    "    \n",
    "    # Predicted logistic curve\n",
    "    plt.plot(x+pred_x, \n",
    "             [logistic_model_func(i, abc_tuple_lr[0] , abc_tuple_lr[1], abc_tuple_lr[2]) for i in x+pred_x], \n",
    "             label=\"Logistic model\" )\n",
    "    # Predicted exponential curve\n",
    "    plt.plot(x+pred_x, \n",
    "             [exponential_model_func(i, abc_tuple_exp[0] , abc_tuple_exp[1], abc_tuple_exp[2]) for i in x+pred_x], \n",
    "             label=\"Exponential model\" )\n",
    "    plt.legend()\n",
    "    plt.xlabel(\"Days since 1 January 2020\")\n",
    "    plt.ylabel(\"Total number of infected people\")\n",
    "    plt.ylim((min(y)*0.9,abc_tuple_lr[2]*1.1))\n",
    "    plt.show()\n",
    "    \n",
    "\n",
    "def plot_curves_countries(logistic_model_func, country_2_abc_tuple_lr, country_2_xy):\n",
    "    plt.rcParams['figure.figsize'] = [7, 7]\n",
    "    plt.rc('font', size=14)\n",
    "    \n",
    "    for country, abc_tuple_lr in country_2_abc_tuple_lr.items():\n",
    "        x = country_2_xy[country][0]\n",
    "        y = country_2_xy[country][1]\n",
    "        \n",
    "        sol = calculate_sol_days(x, logistic_model_func, abc_tuple_lr[0] , abc_tuple_lr[1], abc_tuple_lr[2])\n",
    "        pred_x = list(range(max(x),sol))\n",
    "    \n",
    "        # Real data\n",
    "        plt.scatter(x,y, color=\"red\")\n",
    "    \n",
    "        # Predicted logistic curve\n",
    "        plt.plot(x+pred_x, \n",
    "                 [logistic_model_func(i, abc_tuple_lr[0] , abc_tuple_lr[1], abc_tuple_lr[2]) for i in x+pred_x], \n",
    "                 label=\"Logistic model({})\".format(country))\n",
    "        \n",
    "    plt.legend()\n",
    "    plt.xlabel(\"Days since 1 January 2020\")\n",
    "    plt.ylabel(\"Total number of infected people\")\n",
    "    plt.show()"
   ]
  },
  {
   "cell_type": "code",
   "execution_count": 11,
   "metadata": {},
   "outputs": [],
   "source": [
    "# Lower Mean Squared Error between theoretical and experimental data, the better the fit.\n",
    "def calculate_mse(x, y, logistic_model_func, abc_tuple_lr, exponential_model_func, abc_tuple_exp):\n",
    "    y_pred_logistic = [logistic_model_func(i, abc_tuple_lr[0] , abc_tuple_lr[1], abc_tuple_lr[2]) for i in x]\n",
    "    y_pred_exp =  [exponential_model_func(i, abc_tuple_exp[0] , abc_tuple_exp[1], abc_tuple_exp[2]) for i in x]\n",
    "    mse_lr = mean_squared_error(y,y_pred_logistic)\n",
    "    mse_exp = mean_squared_error(y,y_pred_exp)\n",
    "    return mse_lr, mse_exp"
   ]
  },
  {
   "cell_type": "markdown",
   "metadata": {},
   "source": [
    "## 3 - Generic code for data extraction"
   ]
  },
  {
   "cell_type": "code",
   "execution_count": 12,
   "metadata": {},
   "outputs": [],
   "source": [
    "\n",
    "def extract_data(world_df, selected_country):\n",
    "    selected_df = world_df[[\"date\", selected_country]]\n",
    "    selected_df = selected_df[selected_df[selected_country] != 0]\n",
    "    selected_df = selected_df.fillna(method='ffill')\n",
    "    selected_df = selected_df.dropna()\n",
    "    \n",
    "    # Data\n",
    "    x = list(selected_df[\"date\"].values)\n",
    "    y = list(selected_df[selected_country].values)\n",
    "    \n",
    "    return x, y"
   ]
  },
  {
   "cell_type": "markdown",
   "metadata": {},
   "source": [
    "# Execute logistic regression & exponential growth"
   ]
  },
  {
   "cell_type": "code",
   "execution_count": 13,
   "metadata": {},
   "outputs": [
    {
     "name": "stdout",
     "output_type": "stream",
     "text": [
      "06 April 2020\n"
     ]
    }
   ],
   "source": [
    "# Current date:\n",
    "today = datetime.now()\n",
    "print(today.strftime(\"%d %B %Y\"))"
   ]
  },
  {
   "cell_type": "code",
   "execution_count": 14,
   "metadata": {},
   "outputs": [],
   "source": [
    "# generic parameters\n",
    "days_since_start = 45 # predicted that after days_since_start maximum number of infections occurs\n",
    "percentage_of_population = 0.03 # percentage_of_population predicted to be infected at the infection’s end\n",
    "p0_a = 2"
   ]
  },
  {
   "cell_type": "code",
   "execution_count": 15,
   "metadata": {},
   "outputs": [],
   "source": [
    "# To be used later\n",
    "country_2_abc_tuple_lr = {}\n",
    "country_2_xy = {}"
   ]
  },
  {
   "cell_type": "markdown",
   "metadata": {},
   "source": [
    "# 0 - Data World"
   ]
  },
  {
   "cell_type": "code",
   "execution_count": 16,
   "metadata": {},
   "outputs": [],
   "source": [
    "url = \"https://covid.ourworldindata.org/data/ecdc/total_cases.csv\"\n",
    "world_df = pd.read_csv(url)\n",
    "FMT = '%Y-%m-%d'\n",
    "world_df['date'] = world_df['date'].map(lambda x : (datetime.strptime(x, FMT) - datetime.strptime(\"2020-01-01\", FMT)).days  )"
   ]
  },
  {
   "cell_type": "code",
   "execution_count": 17,
   "metadata": {},
   "outputs": [
    {
     "data": {
      "text/html": [
       "<div>\n",
       "<style scoped>\n",
       "    .dataframe tbody tr th:only-of-type {\n",
       "        vertical-align: middle;\n",
       "    }\n",
       "\n",
       "    .dataframe tbody tr th {\n",
       "        vertical-align: top;\n",
       "    }\n",
       "\n",
       "    .dataframe thead th {\n",
       "        text-align: right;\n",
       "    }\n",
       "</style>\n",
       "<table border=\"1\" class=\"dataframe\">\n",
       "  <thead>\n",
       "    <tr style=\"text-align: right;\">\n",
       "      <th></th>\n",
       "      <th>date</th>\n",
       "      <th>World</th>\n",
       "      <th>Afghanistan</th>\n",
       "      <th>Albania</th>\n",
       "      <th>Algeria</th>\n",
       "      <th>Andorra</th>\n",
       "      <th>Angola</th>\n",
       "      <th>Anguilla</th>\n",
       "      <th>Antigua and Barbuda</th>\n",
       "      <th>Argentina</th>\n",
       "      <th>...</th>\n",
       "      <th>United Kingdom</th>\n",
       "      <th>United States</th>\n",
       "      <th>United States Virgin Islands</th>\n",
       "      <th>Uruguay</th>\n",
       "      <th>Uzbekistan</th>\n",
       "      <th>Vatican</th>\n",
       "      <th>Venezuela</th>\n",
       "      <th>Vietnam</th>\n",
       "      <th>Zambia</th>\n",
       "      <th>Zimbabwe</th>\n",
       "    </tr>\n",
       "  </thead>\n",
       "  <tbody>\n",
       "    <tr>\n",
       "      <th>0</th>\n",
       "      <td>-1</td>\n",
       "      <td>27</td>\n",
       "      <td>0.0</td>\n",
       "      <td>NaN</td>\n",
       "      <td>0.0</td>\n",
       "      <td>NaN</td>\n",
       "      <td>NaN</td>\n",
       "      <td>NaN</td>\n",
       "      <td>NaN</td>\n",
       "      <td>NaN</td>\n",
       "      <td>...</td>\n",
       "      <td>0</td>\n",
       "      <td>0</td>\n",
       "      <td>NaN</td>\n",
       "      <td>NaN</td>\n",
       "      <td>NaN</td>\n",
       "      <td>NaN</td>\n",
       "      <td>NaN</td>\n",
       "      <td>0.0</td>\n",
       "      <td>NaN</td>\n",
       "      <td>NaN</td>\n",
       "    </tr>\n",
       "    <tr>\n",
       "      <th>1</th>\n",
       "      <td>0</td>\n",
       "      <td>27</td>\n",
       "      <td>0.0</td>\n",
       "      <td>NaN</td>\n",
       "      <td>0.0</td>\n",
       "      <td>NaN</td>\n",
       "      <td>NaN</td>\n",
       "      <td>NaN</td>\n",
       "      <td>NaN</td>\n",
       "      <td>NaN</td>\n",
       "      <td>...</td>\n",
       "      <td>0</td>\n",
       "      <td>0</td>\n",
       "      <td>NaN</td>\n",
       "      <td>NaN</td>\n",
       "      <td>NaN</td>\n",
       "      <td>NaN</td>\n",
       "      <td>NaN</td>\n",
       "      <td>0.0</td>\n",
       "      <td>NaN</td>\n",
       "      <td>NaN</td>\n",
       "    </tr>\n",
       "    <tr>\n",
       "      <th>2</th>\n",
       "      <td>1</td>\n",
       "      <td>27</td>\n",
       "      <td>0.0</td>\n",
       "      <td>NaN</td>\n",
       "      <td>0.0</td>\n",
       "      <td>NaN</td>\n",
       "      <td>NaN</td>\n",
       "      <td>NaN</td>\n",
       "      <td>NaN</td>\n",
       "      <td>NaN</td>\n",
       "      <td>...</td>\n",
       "      <td>0</td>\n",
       "      <td>0</td>\n",
       "      <td>NaN</td>\n",
       "      <td>NaN</td>\n",
       "      <td>NaN</td>\n",
       "      <td>NaN</td>\n",
       "      <td>NaN</td>\n",
       "      <td>0.0</td>\n",
       "      <td>NaN</td>\n",
       "      <td>NaN</td>\n",
       "    </tr>\n",
       "    <tr>\n",
       "      <th>3</th>\n",
       "      <td>2</td>\n",
       "      <td>44</td>\n",
       "      <td>0.0</td>\n",
       "      <td>NaN</td>\n",
       "      <td>0.0</td>\n",
       "      <td>NaN</td>\n",
       "      <td>NaN</td>\n",
       "      <td>NaN</td>\n",
       "      <td>NaN</td>\n",
       "      <td>NaN</td>\n",
       "      <td>...</td>\n",
       "      <td>0</td>\n",
       "      <td>0</td>\n",
       "      <td>NaN</td>\n",
       "      <td>NaN</td>\n",
       "      <td>NaN</td>\n",
       "      <td>NaN</td>\n",
       "      <td>NaN</td>\n",
       "      <td>0.0</td>\n",
       "      <td>NaN</td>\n",
       "      <td>NaN</td>\n",
       "    </tr>\n",
       "    <tr>\n",
       "      <th>4</th>\n",
       "      <td>3</td>\n",
       "      <td>44</td>\n",
       "      <td>0.0</td>\n",
       "      <td>NaN</td>\n",
       "      <td>0.0</td>\n",
       "      <td>NaN</td>\n",
       "      <td>NaN</td>\n",
       "      <td>NaN</td>\n",
       "      <td>NaN</td>\n",
       "      <td>NaN</td>\n",
       "      <td>...</td>\n",
       "      <td>0</td>\n",
       "      <td>0</td>\n",
       "      <td>NaN</td>\n",
       "      <td>NaN</td>\n",
       "      <td>NaN</td>\n",
       "      <td>NaN</td>\n",
       "      <td>NaN</td>\n",
       "      <td>0.0</td>\n",
       "      <td>NaN</td>\n",
       "      <td>NaN</td>\n",
       "    </tr>\n",
       "  </tbody>\n",
       "</table>\n",
       "<p>5 rows × 207 columns</p>\n",
       "</div>"
      ],
      "text/plain": [
       "   date  World  Afghanistan  Albania  Algeria  Andorra  Angola  Anguilla  \\\n",
       "0    -1     27          0.0      NaN      0.0      NaN     NaN       NaN   \n",
       "1     0     27          0.0      NaN      0.0      NaN     NaN       NaN   \n",
       "2     1     27          0.0      NaN      0.0      NaN     NaN       NaN   \n",
       "3     2     44          0.0      NaN      0.0      NaN     NaN       NaN   \n",
       "4     3     44          0.0      NaN      0.0      NaN     NaN       NaN   \n",
       "\n",
       "   Antigua and Barbuda  Argentina    ...     United Kingdom  United States  \\\n",
       "0                  NaN        NaN    ...                  0              0   \n",
       "1                  NaN        NaN    ...                  0              0   \n",
       "2                  NaN        NaN    ...                  0              0   \n",
       "3                  NaN        NaN    ...                  0              0   \n",
       "4                  NaN        NaN    ...                  0              0   \n",
       "\n",
       "   United States Virgin Islands  Uruguay  Uzbekistan  Vatican  Venezuela  \\\n",
       "0                           NaN      NaN         NaN      NaN        NaN   \n",
       "1                           NaN      NaN         NaN      NaN        NaN   \n",
       "2                           NaN      NaN         NaN      NaN        NaN   \n",
       "3                           NaN      NaN         NaN      NaN        NaN   \n",
       "4                           NaN      NaN         NaN      NaN        NaN   \n",
       "\n",
       "   Vietnam  Zambia  Zimbabwe  \n",
       "0      0.0     NaN       NaN  \n",
       "1      0.0     NaN       NaN  \n",
       "2      0.0     NaN       NaN  \n",
       "3      0.0     NaN       NaN  \n",
       "4      0.0     NaN       NaN  \n",
       "\n",
       "[5 rows x 207 columns]"
      ]
     },
     "execution_count": 17,
     "metadata": {},
     "output_type": "execute_result"
    }
   ],
   "source": [
    "world_df.head()"
   ]
  },
  {
   "cell_type": "code",
   "execution_count": 18,
   "metadata": {},
   "outputs": [
    {
     "name": "stdout",
     "output_type": "stream",
     "text": [
      "['date', 'World', 'Afghanistan', 'Albania', 'Algeria', 'Andorra', 'Angola', 'Anguilla', 'Antigua and Barbuda', 'Argentina', 'Armenia', 'Aruba', 'Australia', 'Austria', 'Azerbaijan', 'Bahamas', 'Bahrain', 'Bangladesh', 'Barbados', 'Belarus', 'Belgium', 'Belize', 'Benin', 'Bermuda', 'Bhutan', 'Bolivia', 'Bonaire Sint Eustatius and Saba', 'Bosnia and Herzegovina', 'Botswana', 'Brazil', 'British Virgin Islands', 'Brunei', 'Bulgaria', 'Burkina Faso', 'Burundi', 'Cambodia', 'Cameroon', 'Canada', 'Cape Verde', 'Cayman Islands', 'Central African Republic', 'Chad', 'Chile', 'China', 'Colombia', 'Congo', 'Costa Rica', \"Cote d'Ivoire\", 'Croatia', 'Cuba', 'Curacao', 'Cyprus', 'Czech Republic', 'Democratic Republic of Congo', 'Denmark', 'Djibouti', 'Dominica', 'Dominican Republic', 'Ecuador', 'Egypt', 'El Salvador', 'Equatorial Guinea', 'Eritrea', 'Estonia', 'Ethiopia', 'Faeroe Islands', 'Falkland Islands', 'Fiji', 'Finland', 'France', 'French Polynesia', 'Gabon', 'Gambia', 'Georgia', 'Germany', 'Ghana', 'Gibraltar', 'Greece', 'Greenland', 'Grenada', 'Guam', 'Guatemala', 'Guernsey', 'Guinea', 'Guinea-Bissau', 'Guyana', 'Haiti', 'Honduras', 'Hungary', 'Iceland', 'India', 'Indonesia', 'International', 'Iran', 'Iraq', 'Ireland', 'Isle of Man', 'Israel', 'Italy', 'Jamaica', 'Japan', 'Jersey', 'Jordan', 'Kazakhstan', 'Kenya', 'Kosovo', 'Kuwait', 'Kyrgyzstan', 'Laos', 'Latvia', 'Lebanon', 'Liberia', 'Libya', 'Liechtenstein', 'Lithuania', 'Luxembourg', 'Macedonia', 'Madagascar', 'Malawi', 'Malaysia', 'Maldives', 'Mali', 'Malta', 'Mauritania', 'Mauritius', 'Mexico', 'Moldova', 'Monaco', 'Mongolia', 'Montenegro', 'Montserrat', 'Morocco', 'Mozambique', 'Myanmar', 'Namibia', 'Nepal', 'Netherlands', 'New Caledonia', 'New Zealand', 'Nicaragua', 'Niger', 'Nigeria', 'Northern Mariana Islands', 'Norway', 'Oman', 'Pakistan', 'Palestine', 'Panama', 'Papua New Guinea', 'Paraguay', 'Peru', 'Philippines', 'Poland', 'Portugal', 'Puerto Rico', 'Qatar', 'Romania', 'Russia', 'Rwanda', 'Saint Barthlemy', 'Saint Kitts and Nevis', 'Saint Lucia', 'Saint Vincent and the Grenadines', 'San Marino', 'Saudi Arabia', 'Senegal', 'Serbia', 'Seychelles', 'Sierra Leone', 'Singapore', 'Sint Maarten (Dutch part)', 'Slovakia', 'Slovenia', 'Somalia', 'South Africa', 'South Korea', 'South Sudan', 'Spain', 'Sri Lanka', 'Sudan', 'Suriname', 'Swaziland', 'Sweden', 'Switzerland', 'Syria', 'Taiwan', 'Tanzania', 'Thailand', 'Timor', 'Togo', 'Trinidad and Tobago', 'Tunisia', 'Turkey', 'Turks and Caicos Islands', 'Uganda', 'Ukraine', 'United Arab Emirates', 'United Kingdom', 'United States', 'United States Virgin Islands', 'Uruguay', 'Uzbekistan', 'Vatican', 'Venezuela', 'Vietnam', 'Zambia', 'Zimbabwe']\n"
     ]
    }
   ],
   "source": [
    "print(list(world_df.columns))"
   ]
  },
  {
   "cell_type": "markdown",
   "metadata": {},
   "source": [
    "## 1 - Data on Italy"
   ]
  },
  {
   "cell_type": "markdown",
   "metadata": {},
   "source": [
    "### 1.1 - Load data"
   ]
  },
  {
   "cell_type": "code",
   "execution_count": 19,
   "metadata": {},
   "outputs": [],
   "source": [
    "selected_country = \"Italy\"\n",
    "population = 60.48 * 1e6# 60.48 million"
   ]
  },
  {
   "cell_type": "code",
   "execution_count": 20,
   "metadata": {},
   "outputs": [],
   "source": [
    "# p0: Initial guess for the parameters (length N)\n",
    "x, y = extract_data(world_df, selected_country)\n",
    "start_date = x[0]\n",
    "\n",
    "p0_b = days_since_start + start_date # # i.e. peak after days_since_start days\n",
    "p0_c = percentage_of_population * population # percentage_of_population of the population \n",
    "p0_lr = [p0_a, p0_b, p0_c ] \n",
    "p0_exp = [1,1,1]"
   ]
  },
  {
   "cell_type": "markdown",
   "metadata": {},
   "source": [
    "### 1.2 - Execute Logistic Regression"
   ]
  },
  {
   "cell_type": "code",
   "execution_count": 21,
   "metadata": {},
   "outputs": [
    {
     "name": "stdout",
     "output_type": "stream",
     "text": [
      "a_lr:5.790890294702066 , b_lr:84.35729577939289, c_lr:142391.61714793544 \n",
      "errors_lr: [0.07659594600115893, 0.14572471131183098, 1333.1509925740254]\n"
     ]
    }
   ],
   "source": [
    "# Logistic Regression\n",
    "a_lr , b_lr, c_lr, errors_lr = fit_curve(logistic_model, x, y, p0=p0_lr, population=population)\n",
    "print(\"a_lr:{} , b_lr:{}, c_lr:{} \".format(a_lr , b_lr, c_lr))\n",
    "print(\"errors_lr: {}\".format(errors_lr))\n"
   ]
  },
  {
   "cell_type": "code",
   "execution_count": 22,
   "metadata": {},
   "outputs": [
    {
     "name": "stdout",
     "output_type": "stream",
     "text": [
      "Days since new year: 155\n",
      "03 June 2020\n"
     ]
    }
   ],
   "source": [
    "# The expected infection end can be calculated as that particular day at which the cumulative \n",
    "# infected people count is equal to the c parameter rounded to the nearest integer.\n",
    "print_sol_date(x, logistic_model, a_lr, b_lr, c_lr)"
   ]
  },
  {
   "cell_type": "markdown",
   "metadata": {},
   "source": [
    "### 1.3 - Execute Exponential Growth"
   ]
  },
  {
   "cell_type": "code",
   "execution_count": 23,
   "metadata": {},
   "outputs": [
    {
     "name": "stdout",
     "output_type": "stream",
     "text": [
      "a_exp:81.02179360454242 , b_exp:0.0790438436446905, c_exp:0.9017453537320474 \n",
      "errors_exp: [4807890.914971542, 0.0030064263428529977, 750731.1594046917]\n"
     ]
    }
   ],
   "source": [
    "# Exponential Growth\n",
    "a_exp , b_exp, c_exp, errors_exp = fit_curve(exponential_model, x, y, p0=p0_exp, population=population)\n",
    "print(\"a_exp:{} , b_exp:{}, c_exp:{} \".format(a_exp , b_exp, c_exp))\n",
    "print(\"errors_exp: {}\".format(errors_exp))"
   ]
  },
  {
   "cell_type": "markdown",
   "metadata": {},
   "source": [
    "### 1.4 - Plot"
   ]
  },
  {
   "cell_type": "code",
   "execution_count": 24,
   "metadata": {
    "scrolled": true
   },
   "outputs": [
    {
     "data": {
      "image/png": "[encoded data removed]",
      "text/plain": [
       "<Figure size 504x504 with 1 Axes>"
      ]
     },
     "metadata": {
      "needs_background": "light"
     },
     "output_type": "display_data"
    }
   ],
   "source": [
    "plot_curves(x, y, logistic_model, (a_lr, b_lr, c_lr), exponential_model, (a_exp, b_exp, c_exp))"
   ]
  },
  {
   "cell_type": "markdown",
   "metadata": {},
   "source": [
    "### 1.5 - Evaluate"
   ]
  },
  {
   "cell_type": "code",
   "execution_count": 25,
   "metadata": {},
   "outputs": [],
   "source": [
    "# Lower Mean Squared Error between theoretical and experimental data, the better the fit."
   ]
  },
  {
   "cell_type": "code",
   "execution_count": 26,
   "metadata": {},
   "outputs": [
    {
     "name": "stdout",
     "output_type": "stream",
     "text": [
      "Logistic model MSE: 970589.776473713\n",
      "Exponential model MSE: 51725055.71050938\n"
     ]
    }
   ],
   "source": [
    "mse_lr, mse_exp = calculate_mse(x, y, logistic_model, (a_lr, b_lr, c_lr), \n",
    "                                exponential_model, (a_exp, b_exp, c_exp))\n",
    "print(\"Logistic model MSE: {}\".format(mse_lr))\n",
    "print(\"Exponential model MSE: {}\".format(mse_exp))"
   ]
  },
  {
   "cell_type": "code",
   "execution_count": 27,
   "metadata": {},
   "outputs": [],
   "source": [
    "country_2_abc_tuple_lr[selected_country] = (a_lr, b_lr, c_lr)\n",
    "country_2_xy[selected_country] = (x,y)"
   ]
  },
  {
   "cell_type": "markdown",
   "metadata": {},
   "source": [
    "## 2 - Data on Republic of Ireland"
   ]
  },
  {
   "cell_type": "markdown",
   "metadata": {},
   "source": [
    "### 2.1 - Load data"
   ]
  },
  {
   "cell_type": "code",
   "execution_count": 28,
   "metadata": {},
   "outputs": [],
   "source": [
    "selected_country = \"Ireland\"\n",
    "population = 4.83 * 1e6 # 4.83 million"
   ]
  },
  {
   "cell_type": "code",
   "execution_count": 29,
   "metadata": {},
   "outputs": [],
   "source": [
    "# lr params\n",
    "# a refers to the infection speed\n",
    "# b is the day with the maximum infections occurred\n",
    "# c is the total number of recorded infected people at the infection’s end\n",
    "\n",
    "x, y = extract_data(world_df, selected_country)\n",
    "start_date = x[0]\n",
    "\n",
    "# p0: Initial guess for the parameters (length N)\n",
    "p0_b = days_since_start + start_date # # i.e. peak after days_since_start days\n",
    "p0_c = percentage_of_population * population # percentage_of_population of the population \n",
    "p0_lr = [p0_a, p0_b, p0_c] \n",
    "p0_exp = [1,1,1]"
   ]
  },
  {
   "cell_type": "markdown",
   "metadata": {},
   "source": [
    "### 2.2 - Execute Logistic Regression"
   ]
  },
  {
   "cell_type": "code",
   "execution_count": 30,
   "metadata": {},
   "outputs": [
    {
     "name": "stdout",
     "output_type": "stream",
     "text": [
      "a_lr:5.072551551117147 , b_lr:91.61274390403712, c_lr:6993.0275285213565 \n",
      "errors_lr: [0.17620970928331106, 0.5245258955956069, 328.5023971926355]\n"
     ]
    }
   ],
   "source": [
    "# Logistic Regression\n",
    "a_lr , b_lr, c_lr, errors_lr = fit_curve(logistic_model, x, y, p0=p0_lr, population=population)\n",
    "print(\"a_lr:{} , b_lr:{}, c_lr:{} \".format(a_lr , b_lr, c_lr))\n",
    "print(\"errors_lr: {}\".format(errors_lr))\n"
   ]
  },
  {
   "cell_type": "code",
   "execution_count": 31,
   "metadata": {},
   "outputs": [
    {
     "name": "stdout",
     "output_type": "stream",
     "text": [
      "Days since new year: 154\n",
      "02 June 2020\n"
     ]
    }
   ],
   "source": [
    "# The expected infection end can be calculated as that particular day at which the cumulative \n",
    "# infected people count is equal to the c parameter rounded to the nearest integer.\n",
    "print_sol_date(x, logistic_model, a_lr, b_lr, c_lr)"
   ]
  },
  {
   "cell_type": "markdown",
   "metadata": {},
   "source": [
    "### 2.3 - Execute Exponential Growth"
   ]
  },
  {
   "cell_type": "code",
   "execution_count": 32,
   "metadata": {},
   "outputs": [
    {
     "name": "stdout",
     "output_type": "stream",
     "text": [
      "a_exp:4.664983199035573 , b_exp:0.12093347489792046, c_exp:37.59094202217875 \n",
      "errors_exp: [12363348.33713045, 0.004184210813392845, 21914900.50470159]\n"
     ]
    }
   ],
   "source": [
    "# Exponential Growth\n",
    "a_exp , b_exp, c_exp, errors_exp = fit_curve(exponential_model, x, y, p0=p0_exp, population=population)\n",
    "print(\"a_exp:{} , b_exp:{}, c_exp:{} \".format(a_exp , b_exp, c_exp))\n",
    "print(\"errors_exp: {}\".format(errors_exp))"
   ]
  },
  {
   "cell_type": "markdown",
   "metadata": {},
   "source": [
    "### 2.4 - Plot"
   ]
  },
  {
   "cell_type": "code",
   "execution_count": 33,
   "metadata": {
    "scrolled": true
   },
   "outputs": [
    {
     "data": {
      "image/png": "[encoded data removed]",
      "text/plain": [
       "<Figure size 504x504 with 1 Axes>"
      ]
     },
     "metadata": {
      "needs_background": "light"
     },
     "output_type": "display_data"
    }
   ],
   "source": [
    "plot_curves(x, y, logistic_model, (a_lr, b_lr, c_lr), exponential_model, (a_exp, b_exp, c_exp))"
   ]
  },
  {
   "cell_type": "markdown",
   "metadata": {},
   "source": [
    "### 2.5 - Evaluate"
   ]
  },
  {
   "cell_type": "code",
   "execution_count": 34,
   "metadata": {},
   "outputs": [
    {
     "name": "stdout",
     "output_type": "stream",
     "text": [
      "Logistic model MSE: 5402.345736598518\n",
      "Exponential model MSE: 37387.82780495407\n"
     ]
    }
   ],
   "source": [
    "# Lower Mean Squared Error between theoretical and experimental data, the better the fit.\n",
    "mse_lr, mse_exp = calculate_mse(x, y, logistic_model, (a_lr, b_lr, c_lr), \n",
    "                                exponential_model, (a_exp, b_exp, c_exp))\n",
    "print(\"Logistic model MSE: {}\".format(mse_lr))\n",
    "print(\"Exponential model MSE: {}\".format(mse_exp))"
   ]
  },
  {
   "cell_type": "code",
   "execution_count": 35,
   "metadata": {},
   "outputs": [],
   "source": [
    "country_2_abc_tuple_lr[selected_country] = (a_lr, b_lr, c_lr)\n",
    "country_2_xy[selected_country] = (x,y)"
   ]
  },
  {
   "cell_type": "markdown",
   "metadata": {},
   "source": [
    "## 3 - Data on Turkey"
   ]
  },
  {
   "cell_type": "markdown",
   "metadata": {},
   "source": [
    "### 3.1 - Load data"
   ]
  },
  {
   "cell_type": "code",
   "execution_count": 36,
   "metadata": {},
   "outputs": [],
   "source": [
    "selected_country = \"Turkey\"\n",
    "population = 80.81 * 1e6 # 80.81 million"
   ]
  },
  {
   "cell_type": "code",
   "execution_count": 37,
   "metadata": {},
   "outputs": [],
   "source": [
    "# lr params\n",
    "# a refers to the infection speed\n",
    "# b is the day with the maximum infections occurred\n",
    "# c is the total number of recorded infected people at the infection’s end\n",
    "\n",
    "x, y = extract_data(world_df, selected_country)\n",
    "start_date = x[0]\n",
    "\n",
    "\n",
    "# p0: Initial guess for the parameters (length N)\n",
    "p0_b = days_since_start + start_date # # i.e. peak after days_since_start days\n",
    "p0_c = percentage_of_population * population # percentage_of_population of the population  \n",
    "p0_lr = [p0_a, p0_b, p0_c] \n",
    "p0_exp = [1,1,1]"
   ]
  },
  {
   "cell_type": "markdown",
   "metadata": {},
   "source": [
    "### 3.2 - Execute Logistic Regression"
   ]
  },
  {
   "cell_type": "code",
   "execution_count": 38,
   "metadata": {},
   "outputs": [
    {
     "name": "stdout",
     "output_type": "stream",
     "text": [
      "a_lr:3.303621848202102 , b_lr:92.8501857348738, c_lr:36627.657121939716 \n",
      "errors_lr: [0.129714305480144, 0.3629538002547726, 1781.264304190065]\n"
     ]
    }
   ],
   "source": [
    "# Logistic Regression\n",
    "a_lr , b_lr, c_lr, errors_lr = fit_curve(logistic_model, x, y, p0=p0_lr, population=population)\n",
    "print(\"a_lr:{} , b_lr:{}, c_lr:{} \".format(a_lr , b_lr, c_lr))\n",
    "print(\"errors_lr: {}\".format(errors_lr))\n"
   ]
  },
  {
   "cell_type": "code",
   "execution_count": 39,
   "metadata": {},
   "outputs": [
    {
     "name": "stdout",
     "output_type": "stream",
     "text": [
      "Days since new year: 128\n",
      "07 May 2020\n"
     ]
    }
   ],
   "source": [
    "# The expected infection end can be calculated as that particular day at which the cumulative \n",
    "# infected people count is equal to the c parameter rounded to the nearest integer.\n",
    "print_sol_date(x, logistic_model, a_lr, b_lr, c_lr)"
   ]
  },
  {
   "cell_type": "markdown",
   "metadata": {},
   "source": [
    "### 3.3 - Execute Exponential Growth"
   ]
  },
  {
   "cell_type": "code",
   "execution_count": 40,
   "metadata": {},
   "outputs": [
    {
     "name": "stdout",
     "output_type": "stream",
     "text": [
      "a_exp:3.1607235818746418 , b_exp:0.17935698057610178, c_exp:45.11397222709547 \n",
      "errors_exp: [7673999.368923151, 0.007928843402072493, 13536830.524561133]\n"
     ]
    }
   ],
   "source": [
    "# Exponential Growth\n",
    "a_exp , b_exp, c_exp, errors_exp = fit_curve(exponential_model, x, y, p0=p0_exp, population=population)\n",
    "print(\"a_exp:{} , b_exp:{}, c_exp:{} \".format(a_exp , b_exp, c_exp))\n",
    "print(\"errors_exp: {}\".format(errors_exp))"
   ]
  },
  {
   "cell_type": "markdown",
   "metadata": {},
   "source": [
    "### 3.4 - Plot"
   ]
  },
  {
   "cell_type": "code",
   "execution_count": 41,
   "metadata": {
    "scrolled": true
   },
   "outputs": [
    {
     "data": {
      "image/png": "[encoded data removed]",
      "text/plain": [
       "<Figure size 504x504 with 1 Axes>"
      ]
     },
     "metadata": {
      "needs_background": "light"
     },
     "output_type": "display_data"
    }
   ],
   "source": [
    "plot_curves(x, y, logistic_model, (a_lr, b_lr, c_lr), exponential_model, (a_exp, b_exp, c_exp))"
   ]
  },
  {
   "cell_type": "markdown",
   "metadata": {},
   "source": [
    "### 3.5 - Evaluate"
   ]
  },
  {
   "cell_type": "code",
   "execution_count": 42,
   "metadata": {},
   "outputs": [
    {
     "name": "stdout",
     "output_type": "stream",
     "text": [
      "Logistic model MSE: 135308.65913496862\n",
      "Exponential model MSE: 1169650.484935774\n"
     ]
    }
   ],
   "source": [
    "# Lower Mean Squared Error between theoretical and experimental data, the better the fit.\n",
    "mse_lr, mse_exp = calculate_mse(x, y, logistic_model, (a_lr, b_lr, c_lr), \n",
    "                                exponential_model, (a_exp, b_exp, c_exp))\n",
    "print(\"Logistic model MSE: {}\".format(mse_lr))\n",
    "print(\"Exponential model MSE: {}\".format(mse_exp))"
   ]
  },
  {
   "cell_type": "code",
   "execution_count": 43,
   "metadata": {},
   "outputs": [],
   "source": [
    "country_2_abc_tuple_lr[selected_country] = (a_lr, b_lr, c_lr)\n",
    "country_2_xy[selected_country] = (x,y)"
   ]
  },
  {
   "cell_type": "markdown",
   "metadata": {},
   "source": [
    "## 4 - Plot all"
   ]
  },
  {
   "cell_type": "code",
   "execution_count": 44,
   "metadata": {},
   "outputs": [
    {
     "data": {
      "image/png": "[encoded data removed]",
      "text/plain": [
       "<Figure size 504x504 with 1 Axes>"
      ]
     },
     "metadata": {
      "needs_background": "light"
     },
     "output_type": "display_data"
    }
   ],
   "source": [
    "plot_curves_countries(logistic_model, country_2_abc_tuple_lr, country_2_xy)"
   ]
  },
  {
   "cell_type": "code",
   "execution_count": 45,
   "metadata": {},
   "outputs": [
    {
     "data": {
      "image/png": "[encoded data removed]",
      "text/plain": [
       "<Figure size 504x504 with 1 Axes>"
      ]
     },
     "metadata": {
      "needs_background": "light"
     },
     "output_type": "display_data"
    }
   ],
   "source": [
    "country_2_abc_tuple_lr.pop(\"Italy\")\n",
    "country_2_xy.pop(\"Italy\")\n",
    "plot_curves_countries(logistic_model, country_2_abc_tuple_lr, country_2_xy)"
   ]
  },
  {
   "cell_type": "code",
   "execution_count": null,
   "metadata": {},
   "outputs": [],
   "source": []
  }
 ],
 "metadata": {
  "kernelspec": {
   "display_name": "Python 3",
   "language": "python",
   "name": "python3"
  },
  "language_info": {
   "codemirror_mode": {
    "name": "ipython",
    "version": 3
   },
   "file_extension": ".py",
   "mimetype": "text/x-python",
   "name": "python",
   "nbconvert_exporter": "python",
   "pygments_lexer": "ipython3",
   "version": "3.7.1"
  }
 },
 "nbformat": 4,
 "nbformat_minor": 2
}
