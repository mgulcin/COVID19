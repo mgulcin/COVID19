{
 "cells": [
  {
   "cell_type": "code",
   "execution_count": 1,
   "metadata": {},
   "outputs": [],
   "source": [
    "# Copied from https://towardsdatascience.com/covid-19-infection-in-italy-mathematical-models-and-predictions\n",
    "# Modified the code to make it more generic \n",
    "# Included \"hard coded data\" for Turkey and Republic of Ireland (ROI)"
   ]
  },
  {
   "cell_type": "code",
   "execution_count": 2,
   "metadata": {},
   "outputs": [],
   "source": [
    "import pandas as pd\n",
    "import numpy as np\n",
    "from datetime import datetime,timedelta\n",
    "from sklearn.metrics import mean_squared_error\n",
    "from scipy.optimize import curve_fit\n",
    "from scipy.optimize import fsolve\n",
    "import matplotlib.pyplot as plt\n",
    "%matplotlib inline"
   ]
  },
  {
   "cell_type": "markdown",
   "metadata": {},
   "source": [
    "# Curve Fitting functions"
   ]
  },
  {
   "cell_type": "markdown",
   "metadata": {},
   "source": [
    "## 1 - Logistic regression"
   ]
  },
  {
   "cell_type": "code",
   "execution_count": 3,
   "metadata": {},
   "outputs": [],
   "source": [
    "# The logistic model describes an infection growth that is going to stop in the future, "
   ]
  },
  {
   "cell_type": "code",
   "execution_count": 4,
   "metadata": {},
   "outputs": [],
   "source": [
    "# a refers to the infection speed\n",
    "# b is the day with the maximum infections occurred\n",
    "# c is the total number of recorded infected people at the infection’s end\n",
    "def logistic_model(x,a,b,c):\n",
    "    return c/(1+np.exp(-(x-b)/a))\n",
    "\n"
   ]
  },
  {
   "cell_type": "code",
   "execution_count": 5,
   "metadata": {},
   "outputs": [],
   "source": [
    "def calculate_sol_days(x, logistic_model_func, a_lr, b_lr, c_lr):\n",
    "    # The expected infection end can be calculated as that particular day at which the cumulative \n",
    "    # infected people count is equal to the c parameter rounded to the nearest integer.\n",
    "    sol_date = int(fsolve(lambda x : logistic_model_func(x, a_lr, b_lr, c_lr) - int(c_lr), b_lr))\n",
    "    return sol_date"
   ]
  },
  {
   "cell_type": "code",
   "execution_count": 6,
   "metadata": {},
   "outputs": [],
   "source": [
    "def print_sol_date(x, logistic_model_func, a_lr, b_lr, c_lr):\n",
    "    # The expected infection end can be calculated as that particular day at which the cumulative \n",
    "    # infected people count is equal to the c parameter rounded to the nearest integer.\n",
    "    sol_days = calculate_sol_days(x, logistic_model, a_lr,b_lr,c_lr)\n",
    "    print(\"Days since new year: {}\".format(sol_days)) \n",
    "    # check from https://asd.gsfc.nasa.gov/Craig.Markwardt/doy2020.html\n",
    "    sol_date = datetime(2020,1,1) + timedelta(days=sol_days-1)\n",
    "    print(sol_date.strftime(\"%d %B %Y\"))"
   ]
  },
  {
   "cell_type": "markdown",
   "metadata": {},
   "source": [
    "## 2 - Exponential growth"
   ]
  },
  {
   "cell_type": "code",
   "execution_count": 7,
   "metadata": {},
   "outputs": [],
   "source": [
    "# The exponential model describes an unstoppable infection"
   ]
  },
  {
   "cell_type": "code",
   "execution_count": 8,
   "metadata": {},
   "outputs": [],
   "source": [
    "def exponential_model(x,a,b,c):\n",
    "    return a*np.exp(b*(x-c))"
   ]
  },
  {
   "cell_type": "markdown",
   "metadata": {},
   "source": [
    "## 3 - Generic code for curve fitting"
   ]
  },
  {
   "cell_type": "code",
   "execution_count": 9,
   "metadata": {},
   "outputs": [],
   "source": [
    "def fit_curve(model_function, x, y, p0, population):\n",
    "    # methods: [lm, trf, dogbox]\n",
    "    # Method 'lm' only works for unconstrained problems. Use 'trf' or 'dogbox' instead.\n",
    "    fit = curve_fit(model_function, x, y, p0=p0, maxfev=5000, method=\"trf\", \n",
    "                    bounds=(0, [np.inf, np.inf, population * 0.20]))\n",
    "    #fit = curve_fit(model_function, x, y, p0=p0, maxfev=5000, method=\"lm\")\n",
    "    # print(\"fit_result: {}\".format(fit))\n",
    "    a , b, c = fit[0]\n",
    "    # standard error \n",
    "    errors = [np.sqrt(fit[1][i][i]) for i in [0,1,2]]\n",
    "    return a , b, c, errors"
   ]
  },
  {
   "cell_type": "markdown",
   "metadata": {},
   "source": [
    "##  4 - Plot & evaluate"
   ]
  },
  {
   "cell_type": "code",
   "execution_count": 10,
   "metadata": {},
   "outputs": [],
   "source": [
    "# TODO convert func, abc_tuple into struct and pass array of that struct\n",
    "def plot_curves(x, y, logistic_model_func, abc_tuple_lr, exponential_model_func, abc_tuple_exp):\n",
    "    sol = calculate_sol_days(x, logistic_model_func, abc_tuple_lr[0] , abc_tuple_lr[1], abc_tuple_lr[2])\n",
    "    pred_x = list(range(max(x),sol))\n",
    "    plt.rcParams['figure.figsize'] = [7, 7]\n",
    "    plt.rc('font', size=14)\n",
    "    # Real data\n",
    "    plt.scatter(x,y,label=\"Real data\",color=\"red\")\n",
    "    \n",
    "    # Predicted logistic curve\n",
    "    plt.plot(x+pred_x, \n",
    "             [logistic_model_func(i, abc_tuple_lr[0] , abc_tuple_lr[1], abc_tuple_lr[2]) for i in x+pred_x], \n",
    "             label=\"Logistic model\" )\n",
    "    # Predicted exponential curve\n",
    "    plt.plot(x+pred_x, \n",
    "             [exponential_model_func(i, abc_tuple_exp[0] , abc_tuple_exp[1], abc_tuple_exp[2]) for i in x+pred_x], \n",
    "             label=\"Exponential model\" )\n",
    "    plt.legend()\n",
    "    plt.xlabel(\"Days since 1 January 2020\")\n",
    "    plt.ylabel(\"Total number of infected people\")\n",
    "    plt.ylim((min(y)*0.9,abc_tuple_lr[2]*1.1))\n",
    "    plt.show()\n",
    "    \n",
    "\n",
    "def plot_curves_countries(logistic_model_func, country_2_abc_tuple_lr, country_2_xy):\n",
    "    plt.rcParams['figure.figsize'] = [7, 7]\n",
    "    plt.rc('font', size=14)\n",
    "    \n",
    "    for country, abc_tuple_lr in country_2_abc_tuple_lr.items():\n",
    "        x = country_2_xy[country][0]\n",
    "        y = country_2_xy[country][1]\n",
    "        \n",
    "        sol = calculate_sol_days(x, logistic_model_func, abc_tuple_lr[0] , abc_tuple_lr[1], abc_tuple_lr[2])\n",
    "        pred_x = list(range(max(x),sol))\n",
    "    \n",
    "        # Real data\n",
    "        plt.scatter(x,y, color=\"red\")\n",
    "    \n",
    "        # Predicted logistic curve\n",
    "        plt.plot(x+pred_x, \n",
    "                 [logistic_model_func(i, abc_tuple_lr[0] , abc_tuple_lr[1], abc_tuple_lr[2]) for i in x+pred_x], \n",
    "                 label=\"Logistic model({})\".format(country))\n",
    "        \n",
    "    plt.legend()\n",
    "    plt.xlabel(\"Days since 1 January 2020\")\n",
    "    plt.ylabel(\"Total number of infected people\")\n",
    "    plt.show()"
   ]
  },
  {
   "cell_type": "code",
   "execution_count": 11,
   "metadata": {},
   "outputs": [],
   "source": [
    "# Lower Mean Squared Error between theoretical and experimental data, the better the fit.\n",
    "def calculate_mse(x, y, logistic_model_func, abc_tuple_lr, exponential_model_func, abc_tuple_exp):\n",
    "    y_pred_logistic = [logistic_model_func(i, abc_tuple_lr[0] , abc_tuple_lr[1], abc_tuple_lr[2]) for i in x]\n",
    "    y_pred_exp =  [exponential_model_func(i, abc_tuple_exp[0] , abc_tuple_exp[1], abc_tuple_exp[2]) for i in x]\n",
    "    mse_lr = mean_squared_error(y,y_pred_logistic)\n",
    "    mse_exp = mean_squared_error(y,y_pred_exp)\n",
    "    return mse_lr, mse_exp"
   ]
  },
  {
   "cell_type": "markdown",
   "metadata": {},
   "source": [
    "# Execute logistic regression & exponential growth"
   ]
  },
  {
   "cell_type": "code",
   "execution_count": 12,
   "metadata": {},
   "outputs": [
    {
     "name": "stdout",
     "output_type": "stream",
     "text": [
      "05 April 2020\n"
     ]
    }
   ],
   "source": [
    "# Current date:\n",
    "today = datetime.now()\n",
    "print(today.strftime(\"%d %B %Y\"))"
   ]
  },
  {
   "cell_type": "code",
   "execution_count": 13,
   "metadata": {},
   "outputs": [],
   "source": [
    "# generic parameters\n",
    "days_since_start = 45 # predicted that after days_since_start maximum number of infections occurs\n",
    "percentage_of_population = 0.03 # percentage_of_population predicted to be infected at the infection’s end\n",
    "p0_a = 2"
   ]
  },
  {
   "cell_type": "code",
   "execution_count": 14,
   "metadata": {},
   "outputs": [],
   "source": [
    "# To be used later\n",
    "country_2_abc_tuple_lr = {}\n",
    "country_2_xy = {}"
   ]
  },
  {
   "cell_type": "markdown",
   "metadata": {},
   "source": [
    "## 1 - Data on Italy"
   ]
  },
  {
   "cell_type": "markdown",
   "metadata": {},
   "source": [
    "### 1.1 - Load data"
   ]
  },
  {
   "cell_type": "code",
   "execution_count": 15,
   "metadata": {},
   "outputs": [],
   "source": [
    "url = \"https://raw.githubusercontent.com/pcm-dpc/COVID-19/master/dati-andamento-nazionale/dpc-covid19-ita-andamento-nazionale.csv\"\n",
    "df = pd.read_csv(url)"
   ]
  },
  {
   "cell_type": "code",
   "execution_count": 16,
   "metadata": {},
   "outputs": [
    {
     "data": {
      "text/html": [
       "<div>\n",
       "<style scoped>\n",
       "    .dataframe tbody tr th:only-of-type {\n",
       "        vertical-align: middle;\n",
       "    }\n",
       "\n",
       "    .dataframe tbody tr th {\n",
       "        vertical-align: top;\n",
       "    }\n",
       "\n",
       "    .dataframe thead th {\n",
       "        text-align: right;\n",
       "    }\n",
       "</style>\n",
       "<table border=\"1\" class=\"dataframe\">\n",
       "  <thead>\n",
       "    <tr style=\"text-align: right;\">\n",
       "      <th></th>\n",
       "      <th>data</th>\n",
       "      <th>stato</th>\n",
       "      <th>ricoverati_con_sintomi</th>\n",
       "      <th>terapia_intensiva</th>\n",
       "      <th>totale_ospedalizzati</th>\n",
       "      <th>isolamento_domiciliare</th>\n",
       "      <th>totale_positivi</th>\n",
       "      <th>variazione_totale_positivi</th>\n",
       "      <th>nuovi_positivi</th>\n",
       "      <th>dimessi_guariti</th>\n",
       "      <th>deceduti</th>\n",
       "      <th>totale_casi</th>\n",
       "      <th>tamponi</th>\n",
       "      <th>note_it</th>\n",
       "      <th>note_en</th>\n",
       "    </tr>\n",
       "  </thead>\n",
       "  <tbody>\n",
       "    <tr>\n",
       "      <th>36</th>\n",
       "      <td>2020-03-31T17:00:00</td>\n",
       "      <td>ITA</td>\n",
       "      <td>28192</td>\n",
       "      <td>4023</td>\n",
       "      <td>32215</td>\n",
       "      <td>45420</td>\n",
       "      <td>77635</td>\n",
       "      <td>2107</td>\n",
       "      <td>4053</td>\n",
       "      <td>15729</td>\n",
       "      <td>12428</td>\n",
       "      <td>105792</td>\n",
       "      <td>506968</td>\n",
       "      <td>NaN</td>\n",
       "      <td>NaN</td>\n",
       "    </tr>\n",
       "    <tr>\n",
       "      <th>37</th>\n",
       "      <td>2020-04-01T17:00:00</td>\n",
       "      <td>ITA</td>\n",
       "      <td>28403</td>\n",
       "      <td>4035</td>\n",
       "      <td>32438</td>\n",
       "      <td>48134</td>\n",
       "      <td>80572</td>\n",
       "      <td>2937</td>\n",
       "      <td>4782</td>\n",
       "      <td>16847</td>\n",
       "      <td>13155</td>\n",
       "      <td>110574</td>\n",
       "      <td>541423</td>\n",
       "      <td>NaN</td>\n",
       "      <td>NaN</td>\n",
       "    </tr>\n",
       "    <tr>\n",
       "      <th>38</th>\n",
       "      <td>2020-04-02T17:00:00</td>\n",
       "      <td>ITA</td>\n",
       "      <td>28540</td>\n",
       "      <td>4053</td>\n",
       "      <td>32593</td>\n",
       "      <td>50456</td>\n",
       "      <td>83049</td>\n",
       "      <td>2477</td>\n",
       "      <td>4668</td>\n",
       "      <td>18278</td>\n",
       "      <td>13915</td>\n",
       "      <td>115242</td>\n",
       "      <td>581232</td>\n",
       "      <td>NaN</td>\n",
       "      <td>NaN</td>\n",
       "    </tr>\n",
       "    <tr>\n",
       "      <th>39</th>\n",
       "      <td>2020-04-03T17:00:00</td>\n",
       "      <td>ITA</td>\n",
       "      <td>28741</td>\n",
       "      <td>4068</td>\n",
       "      <td>32809</td>\n",
       "      <td>52579</td>\n",
       "      <td>85388</td>\n",
       "      <td>2339</td>\n",
       "      <td>4585</td>\n",
       "      <td>19758</td>\n",
       "      <td>14681</td>\n",
       "      <td>119827</td>\n",
       "      <td>619849</td>\n",
       "      <td>NaN</td>\n",
       "      <td>NaN</td>\n",
       "    </tr>\n",
       "    <tr>\n",
       "      <th>40</th>\n",
       "      <td>2020-04-04T17:00:00</td>\n",
       "      <td>ITA</td>\n",
       "      <td>29010</td>\n",
       "      <td>3994</td>\n",
       "      <td>33004</td>\n",
       "      <td>55270</td>\n",
       "      <td>88274</td>\n",
       "      <td>2886</td>\n",
       "      <td>4805</td>\n",
       "      <td>20996</td>\n",
       "      <td>15362</td>\n",
       "      <td>124632</td>\n",
       "      <td>657224</td>\n",
       "      <td>NaN</td>\n",
       "      <td>NaN</td>\n",
       "    </tr>\n",
       "  </tbody>\n",
       "</table>\n",
       "</div>"
      ],
      "text/plain": [
       "                   data stato  ricoverati_con_sintomi  terapia_intensiva  \\\n",
       "36  2020-03-31T17:00:00   ITA                   28192               4023   \n",
       "37  2020-04-01T17:00:00   ITA                   28403               4035   \n",
       "38  2020-04-02T17:00:00   ITA                   28540               4053   \n",
       "39  2020-04-03T17:00:00   ITA                   28741               4068   \n",
       "40  2020-04-04T17:00:00   ITA                   29010               3994   \n",
       "\n",
       "    totale_ospedalizzati  isolamento_domiciliare  totale_positivi  \\\n",
       "36                 32215                   45420            77635   \n",
       "37                 32438                   48134            80572   \n",
       "38                 32593                   50456            83049   \n",
       "39                 32809                   52579            85388   \n",
       "40                 33004                   55270            88274   \n",
       "\n",
       "    variazione_totale_positivi  nuovi_positivi  dimessi_guariti  deceduti  \\\n",
       "36                        2107            4053            15729     12428   \n",
       "37                        2937            4782            16847     13155   \n",
       "38                        2477            4668            18278     13915   \n",
       "39                        2339            4585            19758     14681   \n",
       "40                        2886            4805            20996     15362   \n",
       "\n",
       "    totale_casi  tamponi note_it note_en  \n",
       "36       105792   506968     NaN     NaN  \n",
       "37       110574   541423     NaN     NaN  \n",
       "38       115242   581232     NaN     NaN  \n",
       "39       119827   619849     NaN     NaN  \n",
       "40       124632   657224     NaN     NaN  "
      ]
     },
     "execution_count": 16,
     "metadata": {},
     "output_type": "execute_result"
    }
   ],
   "source": [
    "df.tail()"
   ]
  },
  {
   "cell_type": "code",
   "execution_count": 17,
   "metadata": {},
   "outputs": [],
   "source": [
    "df = df.loc[:,['data','totale_casi']]\n",
    "FMT = '%Y-%m-%dT%H:%M:%S'\n",
    "date = df['data']\n",
    "df['data'] = date.map(lambda x : (datetime.strptime(x, FMT) - datetime.strptime(\"2020-01-01T00:00:00\", FMT)).days  )"
   ]
  },
  {
   "cell_type": "code",
   "execution_count": 18,
   "metadata": {
    "scrolled": true
   },
   "outputs": [
    {
     "data": {
      "text/html": [
       "<div>\n",
       "<style scoped>\n",
       "    .dataframe tbody tr th:only-of-type {\n",
       "        vertical-align: middle;\n",
       "    }\n",
       "\n",
       "    .dataframe tbody tr th {\n",
       "        vertical-align: top;\n",
       "    }\n",
       "\n",
       "    .dataframe thead th {\n",
       "        text-align: right;\n",
       "    }\n",
       "</style>\n",
       "<table border=\"1\" class=\"dataframe\">\n",
       "  <thead>\n",
       "    <tr style=\"text-align: right;\">\n",
       "      <th></th>\n",
       "      <th>data</th>\n",
       "      <th>totale_casi</th>\n",
       "    </tr>\n",
       "  </thead>\n",
       "  <tbody>\n",
       "    <tr>\n",
       "      <th>36</th>\n",
       "      <td>90</td>\n",
       "      <td>105792</td>\n",
       "    </tr>\n",
       "    <tr>\n",
       "      <th>37</th>\n",
       "      <td>91</td>\n",
       "      <td>110574</td>\n",
       "    </tr>\n",
       "    <tr>\n",
       "      <th>38</th>\n",
       "      <td>92</td>\n",
       "      <td>115242</td>\n",
       "    </tr>\n",
       "    <tr>\n",
       "      <th>39</th>\n",
       "      <td>93</td>\n",
       "      <td>119827</td>\n",
       "    </tr>\n",
       "    <tr>\n",
       "      <th>40</th>\n",
       "      <td>94</td>\n",
       "      <td>124632</td>\n",
       "    </tr>\n",
       "  </tbody>\n",
       "</table>\n",
       "</div>"
      ],
      "text/plain": [
       "    data  totale_casi\n",
       "36    90       105792\n",
       "37    91       110574\n",
       "38    92       115242\n",
       "39    93       119827\n",
       "40    94       124632"
      ]
     },
     "execution_count": 18,
     "metadata": {},
     "output_type": "execute_result"
    }
   ],
   "source": [
    "df.tail()"
   ]
  },
  {
   "cell_type": "code",
   "execution_count": null,
   "metadata": {},
   "outputs": [],
   "source": []
  },
  {
   "cell_type": "code",
   "execution_count": 19,
   "metadata": {},
   "outputs": [],
   "source": [
    "# Data\n",
    "x = list(df.iloc[:,0])\n",
    "y = list(df.iloc[:,1])"
   ]
  },
  {
   "cell_type": "code",
   "execution_count": 20,
   "metadata": {},
   "outputs": [],
   "source": [
    "# p0: Initial guess for the parameters (length N)\n",
    "population = 60.48 * 1e6# 60.48 million\n",
    "start_date = 54 # 54th day of the year\n",
    "\n",
    "\n",
    "p0_b = days_since_start + start_date # # i.e. peak after days_since_start days\n",
    "p0_c = percentage_of_population * population # percentage_of_population of the population \n",
    "p0_lr = [p0_a, p0_b, p0_c ] \n",
    "p0_exp = [1,1,1]"
   ]
  },
  {
   "cell_type": "markdown",
   "metadata": {},
   "source": [
    "### 1.2 - Execute Logistic Regression"
   ]
  },
  {
   "cell_type": "code",
   "execution_count": 21,
   "metadata": {},
   "outputs": [
    {
     "name": "stdout",
     "output_type": "stream",
     "text": [
      "a_lr:5.759803928994459 , b_lr:83.12508034897554, c_lr:140161.39004905187 \n",
      "errors_lr: [0.083764275458387, 0.16551401540507182, 1529.6028882648707]\n"
     ]
    }
   ],
   "source": [
    "# Logistic Regression\n",
    "a_lr , b_lr, c_lr, errors_lr = fit_curve(logistic_model, x, y, p0=p0_lr, population=population)\n",
    "print(\"a_lr:{} , b_lr:{}, c_lr:{} \".format(a_lr , b_lr, c_lr))\n",
    "print(\"errors_lr: {}\".format(errors_lr))\n"
   ]
  },
  {
   "cell_type": "code",
   "execution_count": 22,
   "metadata": {},
   "outputs": [
    {
     "name": "stdout",
     "output_type": "stream",
     "text": [
      "Days since new year: 156\n",
      "04 June 2020\n"
     ]
    }
   ],
   "source": [
    "# The expected infection end can be calculated as that particular day at which the cumulative \n",
    "# infected people count is equal to the c parameter rounded to the nearest integer.\n",
    "print_sol_date(x, logistic_model, a_lr, b_lr, c_lr)"
   ]
  },
  {
   "cell_type": "markdown",
   "metadata": {},
   "source": [
    "### 1.3 - Execute Exponential Growth"
   ]
  },
  {
   "cell_type": "code",
   "execution_count": 23,
   "metadata": {},
   "outputs": [
    {
     "name": "stdout",
     "output_type": "stream",
     "text": [
      "a_exp:73.82701284194177 , b_exp:0.08082046207614303, c_exp:0.38232371846792085 \n",
      "errors_exp: [5270712.667359361, 0.003907827703623827, 883348.9789309456]\n"
     ]
    }
   ],
   "source": [
    "# Exponential Growth\n",
    "a_exp , b_exp, c_exp, errors_exp = fit_curve(exponential_model, x, y, p0=p0_exp, population=population)\n",
    "print(\"a_exp:{} , b_exp:{}, c_exp:{} \".format(a_exp , b_exp, c_exp))\n",
    "print(\"errors_exp: {}\".format(errors_exp))"
   ]
  },
  {
   "cell_type": "markdown",
   "metadata": {},
   "source": [
    "### 1.4 - Plot"
   ]
  },
  {
   "cell_type": "code",
   "execution_count": 24,
   "metadata": {
    "scrolled": true
   },
   "outputs": [
    {
     "data": {
      "image/png": "[encoded data removed]",
      "text/plain": [
       "<Figure size 504x504 with 1 Axes>"
      ]
     },
     "metadata": {
      "needs_background": "light"
     },
     "output_type": "display_data"
    }
   ],
   "source": [
    "plot_curves(x, y, logistic_model, (a_lr, b_lr, c_lr), exponential_model, (a_exp, b_exp, c_exp))"
   ]
  },
  {
   "cell_type": "markdown",
   "metadata": {},
   "source": [
    "### 1.5 - Evaluate"
   ]
  },
  {
   "cell_type": "code",
   "execution_count": 25,
   "metadata": {},
   "outputs": [],
   "source": [
    "# Lower Mean Squared Error between theoretical and experimental data, the better the fit."
   ]
  },
  {
   "cell_type": "code",
   "execution_count": 26,
   "metadata": {},
   "outputs": [
    {
     "name": "stdout",
     "output_type": "stream",
     "text": [
      "Logistic model MSE: 1006339.5622866325\n",
      "Exponential model MSE: 66181119.7484367\n"
     ]
    }
   ],
   "source": [
    "mse_lr, mse_exp = calculate_mse(x, y, logistic_model, (a_lr, b_lr, c_lr), \n",
    "                                exponential_model, (a_exp, b_exp, c_exp))\n",
    "print(\"Logistic model MSE: {}\".format(mse_lr))\n",
    "print(\"Exponential model MSE: {}\".format(mse_exp))"
   ]
  },
  {
   "cell_type": "code",
   "execution_count": 27,
   "metadata": {},
   "outputs": [],
   "source": [
    "country = \"Italy\"\n",
    "country_2_abc_tuple_lr[country] = (a_lr, b_lr, c_lr)\n",
    "country_2_xy[country] = (x,y)"
   ]
  },
  {
   "cell_type": "markdown",
   "metadata": {},
   "source": [
    "## 2 - Data on Republic of Ireland"
   ]
  },
  {
   "cell_type": "markdown",
   "metadata": {},
   "source": [
    "### 2.1 - Load data"
   ]
  },
  {
   "cell_type": "code",
   "execution_count": 28,
   "metadata": {},
   "outputs": [],
   "source": [
    "# TODO Get data automatically from some source\n",
    "# Starts at Feb 29\n",
    "population = 4.83 * 1e6 # 4.83 million\n",
    "start_date = 60 # start_date-th day of the year\n",
    "\n",
    "total_cases = [1, 1, 1, 2 , 6, 13, 18, 19, 21, 24, 34, 43, 70, 90, 129, 169, 223, 292, 366, 557, 683, 785, 906, 1125,\n",
    "              1329, 1564, 1819, 2121, 2415, 2615, 2910, 3235, 3447, 3849, 4273, 4604]\n",
    "dates = list(range(start_date, start_date + len(total_cases)))"
   ]
  },
  {
   "cell_type": "code",
   "execution_count": 29,
   "metadata": {},
   "outputs": [],
   "source": [
    "# Data\n",
    "x = dates\n",
    "y = total_cases"
   ]
  },
  {
   "cell_type": "code",
   "execution_count": 30,
   "metadata": {},
   "outputs": [],
   "source": [
    "# lr params\n",
    "# a refers to the infection speed\n",
    "# b is the day with the maximum infections occurred\n",
    "# c is the total number of recorded infected people at the infection’s end\n",
    "\n",
    "# p0: Initial guess for the parameters (length N)\n",
    "p0_b = days_since_start + start_date # # i.e. peak after days_since_start days\n",
    "p0_c = percentage_of_population * population # percentage_of_population of the population \n",
    "p0_lr = [p0_a, p0_b, p0_c] \n",
    "p0_exp = [1,1,1]"
   ]
  },
  {
   "cell_type": "markdown",
   "metadata": {},
   "source": [
    "### 2.2 - Execute Logistic Regression"
   ]
  },
  {
   "cell_type": "code",
   "execution_count": 31,
   "metadata": {},
   "outputs": [
    {
     "name": "stdout",
     "output_type": "stream",
     "text": [
      "a_lr:4.774617166512755 , b_lr:90.38592483044846, c_lr:6188.936509985204 \n",
      "errors_lr: [0.14771902110154778, 0.4184848287311424, 241.45940566422462]\n"
     ]
    }
   ],
   "source": [
    "# Logistic Regression\n",
    "a_lr , b_lr, c_lr, errors_lr = fit_curve(logistic_model, x, y, p0=p0_lr, population=population)\n",
    "print(\"a_lr:{} , b_lr:{}, c_lr:{} \".format(a_lr , b_lr, c_lr))\n",
    "print(\"errors_lr: {}\".format(errors_lr))\n"
   ]
  },
  {
   "cell_type": "code",
   "execution_count": 32,
   "metadata": {},
   "outputs": [
    {
     "name": "stdout",
     "output_type": "stream",
     "text": [
      "Days since new year: 132\n",
      "11 May 2020\n"
     ]
    }
   ],
   "source": [
    "# The expected infection end can be calculated as that particular day at which the cumulative \n",
    "# infected people count is equal to the c parameter rounded to the nearest integer.\n",
    "print_sol_date(x, logistic_model, a_lr, b_lr, c_lr)"
   ]
  },
  {
   "cell_type": "markdown",
   "metadata": {},
   "source": [
    "### 2.3 - Execute Exponential Growth"
   ]
  },
  {
   "cell_type": "code",
   "execution_count": 33,
   "metadata": {},
   "outputs": [
    {
     "name": "stdout",
     "output_type": "stream",
     "text": [
      "a_exp:4.047184047513605 , b_exp:0.12493925010099405, c_exp:38.042658759309916 \n",
      "errors_exp: [11808956.210465917, 0.005462354466105542, 23353915.26899344]\n"
     ]
    }
   ],
   "source": [
    "# Exponential Growth\n",
    "a_exp , b_exp, c_exp, errors_exp = fit_curve(exponential_model, x, y, p0=p0_exp, population=population)\n",
    "print(\"a_exp:{} , b_exp:{}, c_exp:{} \".format(a_exp , b_exp, c_exp))\n",
    "print(\"errors_exp: {}\".format(errors_exp))"
   ]
  },
  {
   "cell_type": "markdown",
   "metadata": {},
   "source": [
    "### 2.4 - Plot"
   ]
  },
  {
   "cell_type": "code",
   "execution_count": 34,
   "metadata": {
    "scrolled": true
   },
   "outputs": [
    {
     "data": {
      "image/png": "[encoded data removed]",
      "text/plain": [
       "<Figure size 504x504 with 1 Axes>"
      ]
     },
     "metadata": {
      "needs_background": "light"
     },
     "output_type": "display_data"
    }
   ],
   "source": [
    "plot_curves(x, y, logistic_model, (a_lr, b_lr, c_lr), exponential_model, (a_exp, b_exp, c_exp))"
   ]
  },
  {
   "cell_type": "markdown",
   "metadata": {},
   "source": [
    "### 2.5 - Evaluate"
   ]
  },
  {
   "cell_type": "code",
   "execution_count": 35,
   "metadata": {},
   "outputs": [
    {
     "name": "stdout",
     "output_type": "stream",
     "text": [
      "Logistic model MSE: 3507.3833456497177\n",
      "Exponential model MSE: 33349.296986584806\n"
     ]
    }
   ],
   "source": [
    "# Lower Mean Squared Error between theoretical and experimental data, the better the fit.\n",
    "mse_lr, mse_exp = calculate_mse(x, y, logistic_model, (a_lr, b_lr, c_lr), \n",
    "                                exponential_model, (a_exp, b_exp, c_exp))\n",
    "print(\"Logistic model MSE: {}\".format(mse_lr))\n",
    "print(\"Exponential model MSE: {}\".format(mse_exp))"
   ]
  },
  {
   "cell_type": "code",
   "execution_count": 36,
   "metadata": {},
   "outputs": [],
   "source": [
    "country = \"RO_Ireland\"\n",
    "country_2_abc_tuple_lr[country] = (a_lr, b_lr, c_lr)\n",
    "country_2_xy[country] = (x,y)"
   ]
  },
  {
   "cell_type": "markdown",
   "metadata": {},
   "source": [
    "## 3 - Data on Turkey"
   ]
  },
  {
   "cell_type": "markdown",
   "metadata": {},
   "source": [
    "### 3.1 - Load data"
   ]
  },
  {
   "cell_type": "code",
   "execution_count": 37,
   "metadata": {},
   "outputs": [],
   "source": [
    "# TODO Get data automatically from some source\n",
    "# Starts at March 11\n",
    "population = 80.81 * 1e6 # 80.81 million\n",
    "start_date = 71 # start_date-th day of the year\n",
    "\n",
    "total_cases = [1, 2, 5, 6, 18, 47, 98, 191, 358, 670, 947, 1236, 1529, 1872, 2433, 3629, 5698, 7402, 9217, 10827, \n",
    "               13531, 15679, 18135, 20921, 23934]\n",
    "dates = list(range(start_date, start_date + len(total_cases)))"
   ]
  },
  {
   "cell_type": "code",
   "execution_count": 38,
   "metadata": {},
   "outputs": [],
   "source": [
    "# Data\n",
    "x = dates\n",
    "y = total_cases"
   ]
  },
  {
   "cell_type": "code",
   "execution_count": 39,
   "metadata": {},
   "outputs": [],
   "source": [
    "# lr params\n",
    "# a refers to the infection speed\n",
    "# b is the day with the maximum infections occurred\n",
    "# c is the total number of recorded infected people at the infection’s end\n",
    "\n",
    "# p0: Initial guess for the parameters (length N)\n",
    "p0_b = days_since_start + start_date # # i.e. peak after days_since_start days\n",
    "p0_c = percentage_of_population * population # percentage_of_population of the population  \n",
    "p0_lr = [p0_a, p0_b, p0_c] \n",
    "p0_exp = [1,1,1]"
   ]
  },
  {
   "cell_type": "markdown",
   "metadata": {},
   "source": [
    "### 3.2 - Execute Logistic Regression"
   ]
  },
  {
   "cell_type": "code",
   "execution_count": 40,
   "metadata": {},
   "outputs": [
    {
     "name": "stdout",
     "output_type": "stream",
     "text": [
      "a_lr:3.133408790493246 , b_lr:92.22502896546345, c_lr:33141.31744411184 \n",
      "errors_lr: [0.11390056913884992, 0.32776915380534266, 1552.1858856481856]\n"
     ]
    }
   ],
   "source": [
    "# Logistic Regression\n",
    "a_lr , b_lr, c_lr, errors_lr = fit_curve(logistic_model, x, y, p0=p0_lr, population=population)\n",
    "print(\"a_lr:{} , b_lr:{}, c_lr:{} \".format(a_lr , b_lr, c_lr))\n",
    "print(\"errors_lr: {}\".format(errors_lr))\n"
   ]
  },
  {
   "cell_type": "code",
   "execution_count": 41,
   "metadata": {},
   "outputs": [
    {
     "name": "stdout",
     "output_type": "stream",
     "text": [
      "Days since new year: 128\n",
      "07 May 2020\n"
     ]
    }
   ],
   "source": [
    "# The expected infection end can be calculated as that particular day at which the cumulative \n",
    "# infected people count is equal to the c parameter rounded to the nearest integer.\n",
    "print_sol_date(x, logistic_model, a_lr, b_lr, c_lr)"
   ]
  },
  {
   "cell_type": "markdown",
   "metadata": {},
   "source": [
    "### 3.3 - Execute Exponential Growth"
   ]
  },
  {
   "cell_type": "code",
   "execution_count": 42,
   "metadata": {},
   "outputs": [
    {
     "name": "stdout",
     "output_type": "stream",
     "text": [
      "a_exp:2.802650061333441 , b_exp:0.19159524583811924, c_exp:47.39271524403882 \n",
      "errors_exp: [16031743.13143862, 0.009245277426663336, 29855694.80781362]\n"
     ]
    }
   ],
   "source": [
    "# Exponential Growth\n",
    "a_exp , b_exp, c_exp, errors_exp = fit_curve(exponential_model, x, y, p0=p0_exp, population=population)\n",
    "print(\"a_exp:{} , b_exp:{}, c_exp:{} \".format(a_exp , b_exp, c_exp))\n",
    "print(\"errors_exp: {}\".format(errors_exp))"
   ]
  },
  {
   "cell_type": "markdown",
   "metadata": {},
   "source": [
    "### 3.4 - Plot"
   ]
  },
  {
   "cell_type": "code",
   "execution_count": 43,
   "metadata": {
    "scrolled": true
   },
   "outputs": [
    {
     "data": {
      "image/png": "[encoded data removed]",
      "text/plain": [
       "<Figure size 504x504 with 1 Axes>"
      ]
     },
     "metadata": {
      "needs_background": "light"
     },
     "output_type": "display_data"
    }
   ],
   "source": [
    "plot_curves(x, y, logistic_model, (a_lr, b_lr, c_lr), exponential_model, (a_exp, b_exp, c_exp))"
   ]
  },
  {
   "cell_type": "markdown",
   "metadata": {},
   "source": [
    "### 3.5 - Evaluate"
   ]
  },
  {
   "cell_type": "code",
   "execution_count": 44,
   "metadata": {},
   "outputs": [
    {
     "name": "stdout",
     "output_type": "stream",
     "text": [
      "Logistic model MSE: 84302.56238484615\n",
      "Exponential model MSE: 826801.6812235273\n"
     ]
    }
   ],
   "source": [
    "# Lower Mean Squared Error between theoretical and experimental data, the better the fit.\n",
    "mse_lr, mse_exp = calculate_mse(x, y, logistic_model, (a_lr, b_lr, c_lr), \n",
    "                                exponential_model, (a_exp, b_exp, c_exp))\n",
    "print(\"Logistic model MSE: {}\".format(mse_lr))\n",
    "print(\"Exponential model MSE: {}\".format(mse_exp))"
   ]
  },
  {
   "cell_type": "code",
   "execution_count": 45,
   "metadata": {},
   "outputs": [],
   "source": [
    "country = \"Turkey\"\n",
    "country_2_abc_tuple_lr[country] = (a_lr, b_lr, c_lr)\n",
    "country_2_xy[country] = (x,y)"
   ]
  },
  {
   "cell_type": "markdown",
   "metadata": {},
   "source": [
    "## 4 - Plot all"
   ]
  },
  {
   "cell_type": "code",
   "execution_count": 46,
   "metadata": {},
   "outputs": [
    {
     "data": {
      "image/png": "[encoded data removed]",
      "text/plain": [
       "<Figure size 504x504 with 1 Axes>"
      ]
     },
     "metadata": {
      "needs_background": "light"
     },
     "output_type": "display_data"
    }
   ],
   "source": [
    "plot_curves_countries(logistic_model, country_2_abc_tuple_lr, country_2_xy)"
   ]
  },
  {
   "cell_type": "code",
   "execution_count": 47,
   "metadata": {},
   "outputs": [
    {
     "data": {
      "image/png": "[encoded data removed]",
      "text/plain": [
       "<Figure size 504x504 with 1 Axes>"
      ]
     },
     "metadata": {
      "needs_background": "light"
     },
     "output_type": "display_data"
    }
   ],
   "source": [
    "country_2_abc_tuple_lr.pop(\"Italy\")\n",
    "country_2_xy.pop(\"Italy\")\n",
    "plot_curves_countries(logistic_model, country_2_abc_tuple_lr, country_2_xy)"
   ]
  },
  {
   "cell_type": "code",
   "execution_count": null,
   "metadata": {},
   "outputs": [],
   "source": []
  }
 ],
 "metadata": {
  "kernelspec": {
   "display_name": "Python 3",
   "language": "python",
   "name": "python3"
  },
  "language_info": {
   "codemirror_mode": {
    "name": "ipython",
    "version": 3
   },
   "file_extension": ".py",
   "mimetype": "text/x-python",
   "name": "python",
   "nbconvert_exporter": "python",
   "pygments_lexer": "ipython3",
   "version": "3.7.1"
  }
 },
 "nbformat": 4,
 "nbformat_minor": 2
}
