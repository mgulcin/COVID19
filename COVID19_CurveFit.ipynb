{
 "cells": [
  {
   "cell_type": "code",
   "execution_count": 1,
   "metadata": {},
   "outputs": [],
   "source": [
    "# Copied from https://towardsdatascience.com/covid-19-infection-in-italy-mathematical-models-and-predictions\n",
    "# Modified the code to make it more generic \n",
    "# Included \"hard coded data\" for Turkey and Republic of Ireland (ROI)"
   ]
  },
  {
   "cell_type": "code",
   "execution_count": 2,
   "metadata": {},
   "outputs": [],
   "source": [
    "import pandas as pd\n",
    "import numpy as np\n",
    "from datetime import datetime,timedelta\n",
    "from sklearn.metrics import mean_squared_error\n",
    "from scipy.optimize import curve_fit\n",
    "from scipy.optimize import fsolve\n",
    "import matplotlib.pyplot as plt\n",
    "%matplotlib inline"
   ]
  },
  {
   "cell_type": "markdown",
   "metadata": {},
   "source": [
    "# Curve Fitting functions"
   ]
  },
  {
   "cell_type": "markdown",
   "metadata": {},
   "source": [
    "## 1 - Logistic regression"
   ]
  },
  {
   "cell_type": "code",
   "execution_count": 3,
   "metadata": {},
   "outputs": [],
   "source": [
    "# The logistic model describes an infection growth that is going to stop in the future, "
   ]
  },
  {
   "cell_type": "code",
   "execution_count": 4,
   "metadata": {},
   "outputs": [],
   "source": [
    "# a refers to the infection speed\n",
    "# b is the day with the maximum infections occurred\n",
    "# c is the total number of recorded infected people at the infection’s end\n",
    "def logistic_model(x,a,b,c):\n",
    "    return c/(1+np.exp(-(x-b)/a))\n",
    "\n"
   ]
  },
  {
   "cell_type": "code",
   "execution_count": 5,
   "metadata": {},
   "outputs": [],
   "source": [
    "def calculate_sol_days(x, logistic_model_func, a_lr, b_lr, c_lr):\n",
    "    # The expected infection end can be calculated as that particular day at which the cumulative \n",
    "    # infected people count is equal to the c parameter rounded to the nearest integer.\n",
    "    sol_date = int(fsolve(lambda x : logistic_model_func(x, a_lr, b_lr, c_lr) - int(c_lr), b_lr))\n",
    "    return sol_date"
   ]
  },
  {
   "cell_type": "code",
   "execution_count": 6,
   "metadata": {},
   "outputs": [],
   "source": [
    "def print_sol_date(x, logistic_model_func, a_lr, b_lr, c_lr):\n",
    "    # The expected infection end can be calculated as that particular day at which the cumulative \n",
    "    # infected people count is equal to the c parameter rounded to the nearest integer.\n",
    "    sol_days = calculate_sol_days(x, logistic_model, a_lr,b_lr,c_lr)\n",
    "    print(\"Days since new year: {}\".format(sol_days)) \n",
    "    # check from https://asd.gsfc.nasa.gov/Craig.Markwardt/doy2020.html\n",
    "    sol_date = datetime(2020,1,1) + timedelta(days=sol_days-1)\n",
    "    print(sol_date.strftime(\"%d %B %Y\"))"
   ]
  },
  {
   "cell_type": "markdown",
   "metadata": {},
   "source": [
    "## 2 - Exponential growth"
   ]
  },
  {
   "cell_type": "code",
   "execution_count": 7,
   "metadata": {},
   "outputs": [],
   "source": [
    "# The exponential model describes an unstoppable infection"
   ]
  },
  {
   "cell_type": "code",
   "execution_count": 8,
   "metadata": {},
   "outputs": [],
   "source": [
    "def exponential_model(x,a,b,c):\n",
    "    return a*np.exp(b*(x-c))"
   ]
  },
  {
   "cell_type": "markdown",
   "metadata": {},
   "source": [
    "## 3 - Generic code for curve fitting"
   ]
  },
  {
   "cell_type": "code",
   "execution_count": 9,
   "metadata": {},
   "outputs": [],
   "source": [
    "def fit_curve(model_function, x, y, p0, population):\n",
    "    # methods: [lm, trf, dogbox]\n",
    "    # Method 'lm' only works for unconstrained problems. Use 'trf' or 'dogbox' instead.\n",
    "    fit = curve_fit(model_function, x, y, p0=p0, maxfev=5000, method=\"trf\", \n",
    "                    bounds=(0, [np.inf, np.inf, population]))\n",
    "    #fit = curve_fit(model_function, x, y, p0=p0, maxfev=5000, method=\"lm\")\n",
    "    # print(\"fit_result: {}\".format(fit))\n",
    "    a , b, c = fit[0]\n",
    "    # standard error \n",
    "    errors = [np.sqrt(fit[1][i][i]) for i in [0,1,2]]\n",
    "    return a , b, c, errors"
   ]
  },
  {
   "cell_type": "markdown",
   "metadata": {},
   "source": [
    "##  4 - Plot & evaluate"
   ]
  },
  {
   "cell_type": "code",
   "execution_count": 10,
   "metadata": {},
   "outputs": [],
   "source": [
    "# TODO convert func, abc_tuple into struct and pass array of that struct\n",
    "def plot_curves(x, y, logistic_model_func, abc_tuple_lr, exponential_model_func, abc_tuple_exp):\n",
    "    sol = calculate_sol_days(x, logistic_model_func, abc_tuple_lr[0] , abc_tuple_lr[1], abc_tuple_lr[2])\n",
    "    pred_x = list(range(max(x),sol))\n",
    "    plt.rcParams['figure.figsize'] = [7, 7]\n",
    "    plt.rc('font', size=14)\n",
    "    # Real data\n",
    "    plt.scatter(x,y,label=\"Real data\",color=\"red\")\n",
    "    \n",
    "    # Predicted logistic curve\n",
    "    plt.plot(x+pred_x, \n",
    "             [logistic_model_func(i, abc_tuple_lr[0] , abc_tuple_lr[1], abc_tuple_lr[2]) for i in x+pred_x], \n",
    "             label=\"Logistic model\" )\n",
    "    # Predicted exponential curve\n",
    "    plt.plot(x+pred_x, \n",
    "             [exponential_model_func(i, abc_tuple_exp[0] , abc_tuple_exp[1], abc_tuple_exp[2]) for i in x+pred_x], \n",
    "             label=\"Exponential model\" )\n",
    "    plt.legend()\n",
    "    plt.xlabel(\"Days since 1 January 2020\")\n",
    "    plt.ylabel(\"Total number of infected people\")\n",
    "    plt.ylim((min(y)*0.9,abc_tuple_lr[2]*1.1))\n",
    "    plt.show()\n",
    "    \n",
    "\n",
    "def plot_curves_countries(logistic_model_func, country_2_abc_tuple_lr, country_2_xy):\n",
    "    plt.rcParams['figure.figsize'] = [7, 7]\n",
    "    plt.rc('font', size=14)\n",
    "    \n",
    "    for country, abc_tuple_lr in country_2_abc_tuple_lr.items():\n",
    "        x = country_2_xy[country][0]\n",
    "        y = country_2_xy[country][1]\n",
    "        \n",
    "        sol = calculate_sol_days(x, logistic_model_func, abc_tuple_lr[0] , abc_tuple_lr[1], abc_tuple_lr[2])\n",
    "        pred_x = list(range(max(x),sol))\n",
    "    \n",
    "        # Real data\n",
    "        plt.scatter(x,y, color=\"red\")\n",
    "    \n",
    "        # Predicted logistic curve\n",
    "        plt.plot(x+pred_x, \n",
    "                 [logistic_model_func(i, abc_tuple_lr[0] , abc_tuple_lr[1], abc_tuple_lr[2]) for i in x+pred_x], \n",
    "                 label=\"Logistic model({})\".format(country))\n",
    "        \n",
    "    \n",
    "    plt.xlabel(\"Days since 1 January 2020\")\n",
    "    plt.ylabel(\"Total number of infected people\")\n",
    "    plt.legend()\n",
    "    plt.show()"
   ]
  },
  {
   "cell_type": "code",
   "execution_count": 11,
   "metadata": {},
   "outputs": [],
   "source": [
    "# Lower Mean Squared Error between theoretical and experimental data, the better the fit.\n",
    "def calculate_mse(x, y, logistic_model_func, abc_tuple_lr, exponential_model_func, abc_tuple_exp):\n",
    "    y_pred_logistic = [logistic_model_func(i, abc_tuple_lr[0] , abc_tuple_lr[1], abc_tuple_lr[2]) for i in x]\n",
    "    y_pred_exp =  [exponential_model_func(i, abc_tuple_exp[0] , abc_tuple_exp[1], abc_tuple_exp[2]) for i in x]\n",
    "    mse_lr = mean_squared_error(y,y_pred_logistic)\n",
    "    mse_exp = mean_squared_error(y,y_pred_exp)\n",
    "    return mse_lr, mse_exp"
   ]
  },
  {
   "cell_type": "markdown",
   "metadata": {},
   "source": [
    "# Execute logistic regression & exponential growth"
   ]
  },
  {
   "cell_type": "code",
   "execution_count": 12,
   "metadata": {},
   "outputs": [
    {
     "name": "stdout",
     "output_type": "stream",
     "text": [
      "26 April 2020\n"
     ]
    }
   ],
   "source": [
    "# Current date:\n",
    "today = datetime.now()\n",
    "print(today.strftime(\"%d %B %Y\"))"
   ]
  },
  {
   "cell_type": "code",
   "execution_count": 13,
   "metadata": {},
   "outputs": [],
   "source": [
    "# generic parameters\n",
    "days_since_start = 45 # predicted that after days_since_start maximum number of infections occurs\n",
    "percentage_of_population = 0.05 # percentage_of_population predicted to be infected at the infection’s end\n",
    "p0_a = 2"
   ]
  },
  {
   "cell_type": "code",
   "execution_count": 14,
   "metadata": {},
   "outputs": [],
   "source": [
    "# To be used later\n",
    "country_2_abc_tuple_lr = {}\n",
    "country_2_xy = {}"
   ]
  },
  {
   "cell_type": "markdown",
   "metadata": {},
   "source": [
    "## 1 - Data on Italy"
   ]
  },
  {
   "cell_type": "markdown",
   "metadata": {},
   "source": [
    "### 1.1 - Load data"
   ]
  },
  {
   "cell_type": "code",
   "execution_count": 15,
   "metadata": {},
   "outputs": [],
   "source": [
    "url = \"https://raw.githubusercontent.com/pcm-dpc/COVID-19/master/dati-andamento-nazionale/dpc-covid19-ita-andamento-nazionale.csv\"\n",
    "df = pd.read_csv(url)"
   ]
  },
  {
   "cell_type": "code",
   "execution_count": 16,
   "metadata": {},
   "outputs": [
    {
     "data": {
      "text/html": [
       "<div>\n",
       "<style scoped>\n",
       "    .dataframe tbody tr th:only-of-type {\n",
       "        vertical-align: middle;\n",
       "    }\n",
       "\n",
       "    .dataframe tbody tr th {\n",
       "        vertical-align: top;\n",
       "    }\n",
       "\n",
       "    .dataframe thead th {\n",
       "        text-align: right;\n",
       "    }\n",
       "</style>\n",
       "<table border=\"1\" class=\"dataframe\">\n",
       "  <thead>\n",
       "    <tr style=\"text-align: right;\">\n",
       "      <th></th>\n",
       "      <th>data</th>\n",
       "      <th>stato</th>\n",
       "      <th>ricoverati_con_sintomi</th>\n",
       "      <th>terapia_intensiva</th>\n",
       "      <th>totale_ospedalizzati</th>\n",
       "      <th>isolamento_domiciliare</th>\n",
       "      <th>totale_positivi</th>\n",
       "      <th>variazione_totale_positivi</th>\n",
       "      <th>nuovi_positivi</th>\n",
       "      <th>dimessi_guariti</th>\n",
       "      <th>deceduti</th>\n",
       "      <th>totale_casi</th>\n",
       "      <th>tamponi</th>\n",
       "      <th>casi_testati</th>\n",
       "      <th>note_it</th>\n",
       "      <th>note_en</th>\n",
       "    </tr>\n",
       "  </thead>\n",
       "  <tbody>\n",
       "    <tr>\n",
       "      <th>58</th>\n",
       "      <td>2020-04-22T17:00:00</td>\n",
       "      <td>ITA</td>\n",
       "      <td>23805</td>\n",
       "      <td>2384</td>\n",
       "      <td>26189</td>\n",
       "      <td>81510</td>\n",
       "      <td>107699</td>\n",
       "      <td>-10</td>\n",
       "      <td>3370</td>\n",
       "      <td>54543</td>\n",
       "      <td>25085</td>\n",
       "      <td>187327</td>\n",
       "      <td>1513251</td>\n",
       "      <td>1015494.0</td>\n",
       "      <td>NaN</td>\n",
       "      <td>NaN</td>\n",
       "    </tr>\n",
       "    <tr>\n",
       "      <th>59</th>\n",
       "      <td>2020-04-23T17:00:00</td>\n",
       "      <td>ITA</td>\n",
       "      <td>22871</td>\n",
       "      <td>2267</td>\n",
       "      <td>25138</td>\n",
       "      <td>81710</td>\n",
       "      <td>106848</td>\n",
       "      <td>-851</td>\n",
       "      <td>2646</td>\n",
       "      <td>57576</td>\n",
       "      <td>25549</td>\n",
       "      <td>189973</td>\n",
       "      <td>1579909</td>\n",
       "      <td>1052577.0</td>\n",
       "      <td>pd-IT-0015;pd-IT-0017</td>\n",
       "      <td>pd-EN-0015;pd-EN-0017</td>\n",
       "    </tr>\n",
       "    <tr>\n",
       "      <th>60</th>\n",
       "      <td>2020-04-24T17:00:00</td>\n",
       "      <td>ITA</td>\n",
       "      <td>22068</td>\n",
       "      <td>2173</td>\n",
       "      <td>24241</td>\n",
       "      <td>82286</td>\n",
       "      <td>106527</td>\n",
       "      <td>-321</td>\n",
       "      <td>3021</td>\n",
       "      <td>60498</td>\n",
       "      <td>25969</td>\n",
       "      <td>192994</td>\n",
       "      <td>1642356</td>\n",
       "      <td>1147850.0</td>\n",
       "      <td>dc-IT-0009;dc-IT-0011</td>\n",
       "      <td>dc-EN-0009;dc-EN-0011</td>\n",
       "    </tr>\n",
       "    <tr>\n",
       "      <th>61</th>\n",
       "      <td>2020-04-25T17:00:00</td>\n",
       "      <td>ITA</td>\n",
       "      <td>21533</td>\n",
       "      <td>2102</td>\n",
       "      <td>23635</td>\n",
       "      <td>82212</td>\n",
       "      <td>105847</td>\n",
       "      <td>-680</td>\n",
       "      <td>2357</td>\n",
       "      <td>63120</td>\n",
       "      <td>26384</td>\n",
       "      <td>195351</td>\n",
       "      <td>1707743</td>\n",
       "      <td>1186526.0</td>\n",
       "      <td>NaN</td>\n",
       "      <td>NaN</td>\n",
       "    </tr>\n",
       "    <tr>\n",
       "      <th>62</th>\n",
       "      <td>2020-04-26T17:00:00</td>\n",
       "      <td>ITA</td>\n",
       "      <td>21372</td>\n",
       "      <td>2009</td>\n",
       "      <td>23381</td>\n",
       "      <td>82722</td>\n",
       "      <td>106103</td>\n",
       "      <td>256</td>\n",
       "      <td>2324</td>\n",
       "      <td>64928</td>\n",
       "      <td>26644</td>\n",
       "      <td>197675</td>\n",
       "      <td>1757659</td>\n",
       "      <td>1210639.0</td>\n",
       "      <td>dc-IT-0013</td>\n",
       "      <td>dc-EN-0013</td>\n",
       "    </tr>\n",
       "  </tbody>\n",
       "</table>\n",
       "</div>"
      ],
      "text/plain": [
       "                   data stato  ricoverati_con_sintomi  terapia_intensiva  \\\n",
       "58  2020-04-22T17:00:00   ITA                   23805               2384   \n",
       "59  2020-04-23T17:00:00   ITA                   22871               2267   \n",
       "60  2020-04-24T17:00:00   ITA                   22068               2173   \n",
       "61  2020-04-25T17:00:00   ITA                   21533               2102   \n",
       "62  2020-04-26T17:00:00   ITA                   21372               2009   \n",
       "\n",
       "    totale_ospedalizzati  isolamento_domiciliare  totale_positivi  \\\n",
       "58                 26189                   81510           107699   \n",
       "59                 25138                   81710           106848   \n",
       "60                 24241                   82286           106527   \n",
       "61                 23635                   82212           105847   \n",
       "62                 23381                   82722           106103   \n",
       "\n",
       "    variazione_totale_positivi  nuovi_positivi  dimessi_guariti  deceduti  \\\n",
       "58                         -10            3370            54543     25085   \n",
       "59                        -851            2646            57576     25549   \n",
       "60                        -321            3021            60498     25969   \n",
       "61                        -680            2357            63120     26384   \n",
       "62                         256            2324            64928     26644   \n",
       "\n",
       "    totale_casi  tamponi  casi_testati                note_it  \\\n",
       "58       187327  1513251     1015494.0                    NaN   \n",
       "59       189973  1579909     1052577.0  pd-IT-0015;pd-IT-0017   \n",
       "60       192994  1642356     1147850.0  dc-IT-0009;dc-IT-0011   \n",
       "61       195351  1707743     1186526.0                    NaN   \n",
       "62       197675  1757659     1210639.0             dc-IT-0013   \n",
       "\n",
       "                  note_en  \n",
       "58                    NaN  \n",
       "59  pd-EN-0015;pd-EN-0017  \n",
       "60  dc-EN-0009;dc-EN-0011  \n",
       "61                    NaN  \n",
       "62             dc-EN-0013  "
      ]
     },
     "execution_count": 16,
     "metadata": {},
     "output_type": "execute_result"
    }
   ],
   "source": [
    "df.tail()"
   ]
  },
  {
   "cell_type": "code",
   "execution_count": 17,
   "metadata": {},
   "outputs": [],
   "source": [
    "df = df.loc[:,['data','totale_casi']]\n",
    "FMT = '%Y-%m-%dT%H:%M:%S'\n",
    "date = df['data']\n",
    "df['data'] = date.map(lambda x : (datetime.strptime(x, FMT) - datetime.strptime(\"2020-01-01T00:00:00\", FMT)).days  )"
   ]
  },
  {
   "cell_type": "code",
   "execution_count": 18,
   "metadata": {
    "scrolled": true
   },
   "outputs": [
    {
     "data": {
      "text/html": [
       "<div>\n",
       "<style scoped>\n",
       "    .dataframe tbody tr th:only-of-type {\n",
       "        vertical-align: middle;\n",
       "    }\n",
       "\n",
       "    .dataframe tbody tr th {\n",
       "        vertical-align: top;\n",
       "    }\n",
       "\n",
       "    .dataframe thead th {\n",
       "        text-align: right;\n",
       "    }\n",
       "</style>\n",
       "<table border=\"1\" class=\"dataframe\">\n",
       "  <thead>\n",
       "    <tr style=\"text-align: right;\">\n",
       "      <th></th>\n",
       "      <th>data</th>\n",
       "      <th>totale_casi</th>\n",
       "    </tr>\n",
       "  </thead>\n",
       "  <tbody>\n",
       "    <tr>\n",
       "      <th>58</th>\n",
       "      <td>112</td>\n",
       "      <td>187327</td>\n",
       "    </tr>\n",
       "    <tr>\n",
       "      <th>59</th>\n",
       "      <td>113</td>\n",
       "      <td>189973</td>\n",
       "    </tr>\n",
       "    <tr>\n",
       "      <th>60</th>\n",
       "      <td>114</td>\n",
       "      <td>192994</td>\n",
       "    </tr>\n",
       "    <tr>\n",
       "      <th>61</th>\n",
       "      <td>115</td>\n",
       "      <td>195351</td>\n",
       "    </tr>\n",
       "    <tr>\n",
       "      <th>62</th>\n",
       "      <td>116</td>\n",
       "      <td>197675</td>\n",
       "    </tr>\n",
       "  </tbody>\n",
       "</table>\n",
       "</div>"
      ],
      "text/plain": [
       "    data  totale_casi\n",
       "58   112       187327\n",
       "59   113       189973\n",
       "60   114       192994\n",
       "61   115       195351\n",
       "62   116       197675"
      ]
     },
     "execution_count": 18,
     "metadata": {},
     "output_type": "execute_result"
    }
   ],
   "source": [
    "df.tail()"
   ]
  },
  {
   "cell_type": "code",
   "execution_count": null,
   "metadata": {},
   "outputs": [],
   "source": []
  },
  {
   "cell_type": "code",
   "execution_count": 19,
   "metadata": {},
   "outputs": [],
   "source": [
    "# Data\n",
    "x = list(df.iloc[:,0])\n",
    "y = list(df.iloc[:,1])"
   ]
  },
  {
   "cell_type": "code",
   "execution_count": 20,
   "metadata": {},
   "outputs": [],
   "source": [
    "# p0: Initial guess for the parameters (length N)\n",
    "population = 60.48 * 1e6# 60.48 million\n",
    "start_date = 54 # 54th day of the year\n",
    "\n",
    "\n",
    "p0_b = days_since_start + start_date # # i.e. peak after days_since_start days\n",
    "p0_c = percentage_of_population * population # percentage_of_population of the population \n",
    "p0_lr = [p0_a, p0_b, p0_c ] \n",
    "p0_exp = [1,1,1]"
   ]
  },
  {
   "cell_type": "markdown",
   "metadata": {},
   "source": [
    "### 1.2 - Execute Logistic Regression"
   ]
  },
  {
   "cell_type": "code",
   "execution_count": 21,
   "metadata": {},
   "outputs": [
    {
     "name": "stdout",
     "output_type": "stream",
     "text": [
      "a_lr:8.377937076864185 , b_lr:89.12971994467446, c_lr:195846.69539342434 \n",
      "errors_lr: [0.24138865559145534, 0.34611648860130345, 2489.1173700827453]\n"
     ]
    }
   ],
   "source": [
    "# Logistic Regression\n",
    "a_lr , b_lr, c_lr, errors_lr = fit_curve(logistic_model, x, y, p0=p0_lr, population=population)\n",
    "print(\"a_lr:{} , b_lr:{}, c_lr:{} \".format(a_lr , b_lr, c_lr))\n",
    "print(\"errors_lr: {}\".format(errors_lr))\n"
   ]
  },
  {
   "cell_type": "code",
   "execution_count": 22,
   "metadata": {},
   "outputs": [
    {
     "name": "stdout",
     "output_type": "stream",
     "text": [
      "Days since new year: 194\n",
      "12 July 2020\n"
     ]
    }
   ],
   "source": [
    "# The expected infection end can be calculated as that particular day at which the cumulative \n",
    "# infected people count is equal to the c parameter rounded to the nearest integer.\n",
    "print_sol_date(x, logistic_model, a_lr, b_lr, c_lr)"
   ]
  },
  {
   "cell_type": "markdown",
   "metadata": {},
   "source": [
    "### 1.3 - Execute Exponential Growth"
   ]
  },
  {
   "cell_type": "code",
   "execution_count": 23,
   "metadata": {},
   "outputs": [
    {
     "name": "stdout",
     "output_type": "stream",
     "text": [
      "a_exp:2357.7924641517316 , b_exp:0.0397236527377251, c_exp:0.005514166188186319 \n",
      "errors_exp: [104514307.29758815, 0.0021674299394310002, 1115889.2618825168]\n"
     ]
    }
   ],
   "source": [
    "# Exponential Growth\n",
    "a_exp , b_exp, c_exp, errors_exp = fit_curve(exponential_model, x, y, p0=p0_exp, population=population)\n",
    "print(\"a_exp:{} , b_exp:{}, c_exp:{} \".format(a_exp , b_exp, c_exp))\n",
    "print(\"errors_exp: {}\".format(errors_exp))"
   ]
  },
  {
   "cell_type": "markdown",
   "metadata": {},
   "source": [
    "### 1.4 - Plot"
   ]
  },
  {
   "cell_type": "code",
   "execution_count": 24,
   "metadata": {
    "scrolled": true
   },
   "outputs": [
    {
     "data": {
      "image/png": "[encoded data removed]",
      "text/plain": [
       "<Figure size 504x504 with 1 Axes>"
      ]
     },
     "metadata": {
      "needs_background": "light"
     },
     "output_type": "display_data"
    }
   ],
   "source": [
    "plot_curves(x, y, logistic_model, (a_lr, b_lr, c_lr), exponential_model, (a_exp, b_exp, c_exp))"
   ]
  },
  {
   "cell_type": "markdown",
   "metadata": {},
   "source": [
    "### 1.5 - Evaluate"
   ]
  },
  {
   "cell_type": "code",
   "execution_count": 25,
   "metadata": {},
   "outputs": [],
   "source": [
    "# Lower Mean Squared Error between theoretical and experimental data, the better the fit."
   ]
  },
  {
   "cell_type": "code",
   "execution_count": 26,
   "metadata": {},
   "outputs": [
    {
     "name": "stdout",
     "output_type": "stream",
     "text": [
      "Logistic model MSE: 21575410.09774565\n",
      "Exponential model MSE: 426764864.90266746\n"
     ]
    }
   ],
   "source": [
    "mse_lr, mse_exp = calculate_mse(x, y, logistic_model, (a_lr, b_lr, c_lr), \n",
    "                                exponential_model, (a_exp, b_exp, c_exp))\n",
    "print(\"Logistic model MSE: {}\".format(mse_lr))\n",
    "print(\"Exponential model MSE: {}\".format(mse_exp))"
   ]
  },
  {
   "cell_type": "code",
   "execution_count": 27,
   "metadata": {},
   "outputs": [],
   "source": [
    "country = \"Italy\"\n",
    "country_2_abc_tuple_lr[country] = (a_lr, b_lr, c_lr)\n",
    "country_2_xy[country] = (x,y)"
   ]
  },
  {
   "cell_type": "markdown",
   "metadata": {},
   "source": [
    "## 2 - Data on Republic of Ireland"
   ]
  },
  {
   "cell_type": "markdown",
   "metadata": {},
   "source": [
    "### 2.1 - Load data"
   ]
  },
  {
   "cell_type": "code",
   "execution_count": 28,
   "metadata": {},
   "outputs": [],
   "source": [
    "# TODO Get data automatically from some source\n",
    "# Starts at Feb 29\n",
    "population = 4.83 * 1e6 # 4.83 million\n",
    "start_date = 60 # start_date-th day of the year\n",
    "\n",
    "# # NOTE: Big jump from 6574 to 8089. Turned out some tests are evaluated in another country, namely Germany, \n",
    "# # and the results obtained weeks later.\n",
    "# total_cases = [1, 1, 1, 2 , 6, 13, 18, 19, 21, 24, 34, 43, 70, 90, 129, 169, 223, 292, 366, 557, 683, 785, 906, 1125,\n",
    "#               1329, 1564, 1819, 2121, 2415, 2615, 2910, 3235, 3447, 3849, 4273, 4604, 4994, 5364, 5709, 6074, 6574,\n",
    "#               8089, 8928, 9655]\n",
    "\n",
    "# Alternatively, the unexpected (results obtained from abroad) distributed to previous X days\n",
    "# April 10, 11, 12, 13, 14, 15, 16, 17, 18, 19\n",
    "cases_abroad = [1035, 286, 297, 465, 284, 411, 95, 112, 148, 48]\n",
    "days_to_distribute = 15 + len(cases_abroad) # first val. is heuristically decided\n",
    "avg_cases_per_day_abroad = sum(cases_abroad) / days_to_distribute # note the floating point results\n",
    "total_cases_base = [1, 1, 1, 2 , 6, 13, 18, 19, 21, 24, 34, 43, 70, 90, 129, 169, 223, 292, 366, 557, 683, 785, 906, 1125,\n",
    "              1329, 1564, 1819, 2121, 2415, 2615, 2910, 3235, 3447, 3849, 4273, 4604, 4994, 5364, 5709, 6074, 6574,\n",
    "              7054, 7607, 8037, 8564, 9112, 9789, 10418, 11015, 11645, 12090] \n",
    "\n",
    "total_cases_base_and_distributed = total_cases_base[:-days_to_distribute] + [\n",
    "    val + avg_cases_per_day_abroad for val in total_cases_base[days_to_distribute:]]\n",
    "\n",
    "# April 20\n",
    "new_confirmations_since_backlog = [401, 388, 631, 936, 577, 377, 701]\n",
    "last_confirmed_and_distributed = total_cases_base_and_distributed[-1]\n",
    "\n",
    "new_total_cases_base = [(last_confirmed_and_distributed + sum(new_confirmations_since_backlog[0:index+1])) \n",
    "                        for index in range(0, len(new_confirmations_since_backlog))]\n",
    "\n",
    "total_cases = total_cases_base_and_distributed + new_total_cases_base\n",
    "\n",
    "dates = list(range(start_date, start_date + len(total_cases)))"
   ]
  },
  {
   "cell_type": "code",
   "execution_count": 29,
   "metadata": {},
   "outputs": [],
   "source": [
    "# Data\n",
    "x = dates\n",
    "y = total_cases"
   ]
  },
  {
   "cell_type": "code",
   "execution_count": 30,
   "metadata": {},
   "outputs": [],
   "source": [
    "# lr params\n",
    "# a refers to the infection speed\n",
    "# b is the day with the maximum infections occurred\n",
    "# c is the total number of recorded infected people at the infection’s end\n",
    "\n",
    "# p0: Initial guess for the parameters (length N)\n",
    "p0_b = days_since_start + start_date # # i.e. peak after days_since_start days\n",
    "p0_c = percentage_of_population * population # percentage_of_population of the population \n",
    "p0_lr = [p0_a, p0_b, p0_c] \n",
    "p0_exp = [1,1,1]"
   ]
  },
  {
   "cell_type": "markdown",
   "metadata": {},
   "source": [
    "### 2.2 - Execute Logistic Regression"
   ]
  },
  {
   "cell_type": "code",
   "execution_count": 31,
   "metadata": {},
   "outputs": [
    {
     "name": "stdout",
     "output_type": "stream",
     "text": [
      "a_lr:9.004153083212975 , b_lr:107.76466179102168, c_lr:20910.103523282276 \n",
      "errors_lr: [0.20940731100059862, 0.5602410560050225, 565.9433900019628]\n"
     ]
    }
   ],
   "source": [
    "# Logistic Regression\n",
    "a_lr , b_lr, c_lr, errors_lr = fit_curve(logistic_model, x, y, p0=p0_lr, population=population)\n",
    "print(\"a_lr:{} , b_lr:{}, c_lr:{} \".format(a_lr , b_lr, c_lr))\n",
    "print(\"errors_lr: {}\".format(errors_lr))\n"
   ]
  },
  {
   "cell_type": "code",
   "execution_count": 32,
   "metadata": {},
   "outputs": [
    {
     "name": "stdout",
     "output_type": "stream",
     "text": [
      "Days since new year: 217\n",
      "04 August 2020\n"
     ]
    }
   ],
   "source": [
    "# The expected infection end can be calculated as that particular day at which the cumulative \n",
    "# infected people count is equal to the c parameter rounded to the nearest integer.\n",
    "print_sol_date(x, logistic_model, a_lr, b_lr, c_lr)"
   ]
  },
  {
   "cell_type": "markdown",
   "metadata": {},
   "source": [
    "### 2.3 - Execute Exponential Growth"
   ]
  },
  {
   "cell_type": "code",
   "execution_count": 33,
   "metadata": {},
   "outputs": [
    {
     "name": "stdout",
     "output_type": "stream",
     "text": [
      "a_exp:19.40183455710893 , b_exp:0.06391795678126792, c_exp:11.134640455324156 \n",
      "errors_exp: [17192031.359346557, 0.0020176709586934983, 13863136.96729665]\n"
     ]
    }
   ],
   "source": [
    "# Exponential Growth\n",
    "a_exp , b_exp, c_exp, errors_exp = fit_curve(exponential_model, x, y, p0=p0_exp, population=population)\n",
    "print(\"a_exp:{} , b_exp:{}, c_exp:{} \".format(a_exp , b_exp, c_exp))\n",
    "print(\"errors_exp: {}\".format(errors_exp))"
   ]
  },
  {
   "cell_type": "markdown",
   "metadata": {},
   "source": [
    "### 2.4 - Plot"
   ]
  },
  {
   "cell_type": "code",
   "execution_count": 34,
   "metadata": {
    "scrolled": true
   },
   "outputs": [
    {
     "data": {
      "image/png": "[encoded data removed]",
      "text/plain": [
       "<Figure size 504x504 with 1 Axes>"
      ]
     },
     "metadata": {
      "needs_background": "light"
     },
     "output_type": "display_data"
    }
   ],
   "source": [
    "plot_curves(x, y, logistic_model, (a_lr, b_lr, c_lr), exponential_model, (a_exp, b_exp, c_exp))"
   ]
  },
  {
   "cell_type": "markdown",
   "metadata": {},
   "source": [
    "### 2.5 - Evaluate"
   ]
  },
  {
   "cell_type": "code",
   "execution_count": 35,
   "metadata": {},
   "outputs": [
    {
     "name": "stdout",
     "output_type": "stream",
     "text": [
      "Logistic model MSE: 49512.28163140965\n",
      "Exponential model MSE: 552393.3204226161\n"
     ]
    }
   ],
   "source": [
    "# Lower Mean Squared Error between theoretical and experimental data, the better the fit.\n",
    "mse_lr, mse_exp = calculate_mse(x, y, logistic_model, (a_lr, b_lr, c_lr), \n",
    "                                exponential_model, (a_exp, b_exp, c_exp))\n",
    "print(\"Logistic model MSE: {}\".format(mse_lr))\n",
    "print(\"Exponential model MSE: {}\".format(mse_exp))"
   ]
  },
  {
   "cell_type": "code",
   "execution_count": 36,
   "metadata": {},
   "outputs": [],
   "source": [
    "country = \"RO_Ireland\"\n",
    "country_2_abc_tuple_lr[country] = (a_lr, b_lr, c_lr)\n",
    "country_2_xy[country] = (x,y)"
   ]
  },
  {
   "cell_type": "markdown",
   "metadata": {},
   "source": [
    "## 3 - Data on Turkey"
   ]
  },
  {
   "cell_type": "markdown",
   "metadata": {},
   "source": [
    "### 3.1 - Load data"
   ]
  },
  {
   "cell_type": "code",
   "execution_count": 37,
   "metadata": {},
   "outputs": [],
   "source": [
    "# TODO Get data automatically from some source\n",
    "# Starts at March 11\n",
    "population = 80.81 * 1e6 # 80.81 million\n",
    "start_date = 71 # start_date-th day of the year\n",
    "\n",
    "total_cases = [1, 2, 5, 6, 18, 47, 98, 191, 358, 670, 947, 1236, 1529, 1872, 2433, 3629, 5698, 7402, 9217, 10827, \n",
    "               13531, 15679, 18135, 20921, 23934, 27069, 30217, 34109, 38226, 42282, 47029, 52167, 56956, 61049,\n",
    "               65111, 69392, 74193, 78546, 82329, 86306, 90980, 95591, 98674, 101790, 104912, 107773, 110130]\n",
    "dates = list(range(start_date, start_date + len(total_cases)))"
   ]
  },
  {
   "cell_type": "code",
   "execution_count": 38,
   "metadata": {},
   "outputs": [],
   "source": [
    "# Data\n",
    "x = dates\n",
    "y = total_cases"
   ]
  },
  {
   "cell_type": "code",
   "execution_count": 39,
   "metadata": {},
   "outputs": [],
   "source": [
    "# lr params\n",
    "# a refers to the infection speed\n",
    "# b is the day with the maximum infections occurred\n",
    "# c is the total number of recorded infected people at the infection’s end\n",
    "\n",
    "# p0: Initial guess for the parameters (length N)\n",
    "p0_b = days_since_start + start_date # # i.e. peak after days_since_start days\n",
    "p0_c = percentage_of_population * population # percentage_of_population of the population  \n",
    "p0_lr = [p0_a, p0_b, p0_c] \n",
    "p0_exp = [1,1,1]"
   ]
  },
  {
   "cell_type": "markdown",
   "metadata": {},
   "source": [
    "### 3.2 - Execute Logistic Regression"
   ]
  },
  {
   "cell_type": "code",
   "execution_count": 40,
   "metadata": {},
   "outputs": [
    {
     "name": "stdout",
     "output_type": "stream",
     "text": [
      "a_lr:6.121331681326467 , b_lr:103.99530123615352, c_lr:121405.5518449118 \n",
      "errors_lr: [0.1212549983584683, 0.22280658260736677, 1614.956523475522]\n"
     ]
    }
   ],
   "source": [
    "# Logistic Regression\n",
    "a_lr , b_lr, c_lr, errors_lr = fit_curve(logistic_model, x, y, p0=p0_lr, population=population)\n",
    "print(\"a_lr:{} , b_lr:{}, c_lr:{} \".format(a_lr , b_lr, c_lr))\n",
    "print(\"errors_lr: {}\".format(errors_lr))\n"
   ]
  },
  {
   "cell_type": "code",
   "execution_count": 41,
   "metadata": {},
   "outputs": [
    {
     "name": "stdout",
     "output_type": "stream",
     "text": [
      "Days since new year: 179\n",
      "27 June 2020\n"
     ]
    }
   ],
   "source": [
    "# The expected infection end can be calculated as that particular day at which the cumulative \n",
    "# infected people count is equal to the c parameter rounded to the nearest integer.\n",
    "print_sol_date(x, logistic_model, a_lr, b_lr, c_lr)"
   ]
  },
  {
   "cell_type": "markdown",
   "metadata": {},
   "source": [
    "### 3.3 - Execute Exponential Growth"
   ]
  },
  {
   "cell_type": "code",
   "execution_count": 42,
   "metadata": {},
   "outputs": [
    {
     "name": "stdout",
     "output_type": "stream",
     "text": [
      "a_exp:33.73268774646441 , b_exp:0.07214764048995183, c_exp:2.634799652652869 \n",
      "errors_exp: [6510663.393220843, 0.004727164430128258, 2675171.1214880366]\n"
     ]
    }
   ],
   "source": [
    "# Exponential Growth\n",
    "a_exp , b_exp, c_exp, errors_exp = fit_curve(exponential_model, x, y, p0=p0_exp, population=population)\n",
    "print(\"a_exp:{} , b_exp:{}, c_exp:{} \".format(a_exp , b_exp, c_exp))\n",
    "print(\"errors_exp: {}\".format(errors_exp))"
   ]
  },
  {
   "cell_type": "markdown",
   "metadata": {},
   "source": [
    "### 3.4 - Plot"
   ]
  },
  {
   "cell_type": "code",
   "execution_count": 43,
   "metadata": {
    "scrolled": true
   },
   "outputs": [
    {
     "data": {
      "image/png": "[encoded data removed]",
      "text/plain": [
       "<Figure size 504x504 with 1 Axes>"
      ]
     },
     "metadata": {
      "needs_background": "light"
     },
     "output_type": "display_data"
    }
   ],
   "source": [
    "plot_curves(x, y, logistic_model, (a_lr, b_lr, c_lr), exponential_model, (a_exp, b_exp, c_exp))"
   ]
  },
  {
   "cell_type": "markdown",
   "metadata": {},
   "source": [
    "### 3.5 - Evaluate"
   ]
  },
  {
   "cell_type": "code",
   "execution_count": 44,
   "metadata": {},
   "outputs": [
    {
     "name": "stdout",
     "output_type": "stream",
     "text": [
      "Logistic model MSE: 1745121.851983734\n",
      "Exponential model MSE: 64786843.10292925\n"
     ]
    }
   ],
   "source": [
    "# Lower Mean Squared Error between theoretical and experimental data, the better the fit.\n",
    "mse_lr, mse_exp = calculate_mse(x, y, logistic_model, (a_lr, b_lr, c_lr), \n",
    "                                exponential_model, (a_exp, b_exp, c_exp))\n",
    "print(\"Logistic model MSE: {}\".format(mse_lr))\n",
    "print(\"Exponential model MSE: {}\".format(mse_exp))"
   ]
  },
  {
   "cell_type": "code",
   "execution_count": 45,
   "metadata": {},
   "outputs": [],
   "source": [
    "country = \"Turkey\"\n",
    "country_2_abc_tuple_lr[country] = (a_lr, b_lr, c_lr)\n",
    "country_2_xy[country] = (x,y)"
   ]
  },
  {
   "cell_type": "markdown",
   "metadata": {},
   "source": [
    "## 4 - Plot all"
   ]
  },
  {
   "cell_type": "code",
   "execution_count": 46,
   "metadata": {},
   "outputs": [
    {
     "data": {
      "image/png": "[encoded data removed]",
      "text/plain": [
       "<Figure size 504x504 with 1 Axes>"
      ]
     },
     "metadata": {
      "needs_background": "light"
     },
     "output_type": "display_data"
    }
   ],
   "source": [
    "plot_curves_countries(logistic_model, country_2_abc_tuple_lr, country_2_xy)"
   ]
  },
  {
   "cell_type": "code",
   "execution_count": 47,
   "metadata": {},
   "outputs": [
    {
     "data": {
      "image/png": "[encoded data removed]",
      "text/plain": [
       "<Figure size 504x504 with 1 Axes>"
      ]
     },
     "metadata": {
      "needs_background": "light"
     },
     "output_type": "display_data"
    }
   ],
   "source": [
    "country_2_abc_tuple_lr.pop(\"Italy\")\n",
    "country_2_xy.pop(\"Italy\")\n",
    "plot_curves_countries(logistic_model, country_2_abc_tuple_lr, country_2_xy)"
   ]
  },
  {
   "cell_type": "code",
   "execution_count": null,
   "metadata": {},
   "outputs": [],
   "source": []
  }
 ],
 "metadata": {
  "kernelspec": {
   "display_name": "Python 3",
   "language": "python",
   "name": "python3"
  },
  "language_info": {
   "codemirror_mode": {
    "name": "ipython",
    "version": 3
   },
   "file_extension": ".py",
   "mimetype": "text/x-python",
   "name": "python",
   "nbconvert_exporter": "python",
   "pygments_lexer": "ipython3",
   "version": "3.7.1"
  }
 },
 "nbformat": 4,
 "nbformat_minor": 2
}
